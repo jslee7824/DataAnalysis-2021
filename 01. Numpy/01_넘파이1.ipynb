{
  "nbformat": 4,
  "nbformat_minor": 0,
  "metadata": {
    "colab": {
      "name": "01_넘파이1.ipynb",
      "provenance": []
    },
    "kernelspec": {
      "name": "python3",
      "display_name": "Python 3"
    },
    "language_info": {
      "name": "python"
    }
  },
  "cells": [
    {
      "cell_type": "markdown",
      "metadata": {
        "id": "d_oRTaUA7zCB"
      },
      "source": [
        ""
      ]
    },
    {
      "cell_type": "markdown",
      "metadata": {
        "id": "AsbZh46N714I"
      },
      "source": [
        "# Numerical Python(Numpy) - Part 1"
      ]
    },
    {
      "cell_type": "code",
      "metadata": {
        "id": "ScXs8rM__wuZ"
      },
      "source": [
        "# de facto standard(사실상의 표준)\n",
        "import numpy as np"
      ],
      "execution_count": 1,
      "outputs": []
    },
    {
      "cell_type": "code",
      "metadata": {
        "colab": {
          "base_uri": "https://localhost:8080/"
        },
        "id": "JVn5mHI6AQIR",
        "outputId": "54d374f0-846a-4d06-e28f-f12534e90197"
      },
      "source": [
        "a = [1,2,3]\n",
        "a * 3"
      ],
      "execution_count": 2,
      "outputs": [
        {
          "output_type": "execute_result",
          "data": {
            "text/plain": [
              "[1, 2, 3, 1, 2, 3, 1, 2, 3]"
            ]
          },
          "metadata": {
            "tags": []
          },
          "execution_count": 2
        }
      ]
    },
    {
      "cell_type": "code",
      "metadata": {
        "colab": {
          "base_uri": "https://localhost:8080/"
        },
        "id": "DL_H8QjeAiM5",
        "outputId": "b40abc07-6956-4964-d201-28547400476c"
      },
      "source": [
        "# 이런 수고 필요없이\n",
        "list(map(lambda x: 3*x, a))"
      ],
      "execution_count": 7,
      "outputs": [
        {
          "output_type": "execute_result",
          "data": {
            "text/plain": [
              "[3, 6, 9]"
            ]
          },
          "metadata": {
            "tags": []
          },
          "execution_count": 7
        }
      ]
    },
    {
      "cell_type": "code",
      "metadata": {
        "colab": {
          "base_uri": "https://localhost:8080/"
        },
        "id": "2SlwzccUAn8p",
        "outputId": "b8da0382-2b97-424d-f394-a72ef3cd485d"
      },
      "source": [
        "# 이렇게 가능\n",
        "b = np.array([1,2,3])\n",
        "b * 3"
      ],
      "execution_count": 8,
      "outputs": [
        {
          "output_type": "execute_result",
          "data": {
            "text/plain": [
              "array([3, 6, 9])"
            ]
          },
          "metadata": {
            "tags": []
          },
          "execution_count": 8
        }
      ]
    },
    {
      "cell_type": "markdown",
      "metadata": {
        "id": "7Dm0-gkpDirU"
      },
      "source": [
        "## 1. Numpy Dimensional Array"
      ]
    },
    {
      "cell_type": "code",
      "metadata": {
        "colab": {
          "base_uri": "https://localhost:8080/"
        },
        "id": "8aD17SHyDhf7",
        "outputId": "91ab81ad-2f5a-4eae-f161-eafc8e2c5368"
      },
      "source": [
        " a = np.array([1,4,5,8], float)\n",
        " a"
      ],
      "execution_count": 10,
      "outputs": [
        {
          "output_type": "execute_result",
          "data": {
            "text/plain": [
              "array([1., 4., 5., 8.])"
            ]
          },
          "metadata": {
            "tags": []
          },
          "execution_count": 10
        }
      ]
    },
    {
      "cell_type": "code",
      "metadata": {
        "colab": {
          "base_uri": "https://localhost:8080/"
        },
        "id": "nPP4qDKhDuwe",
        "outputId": "b4a32951-1614-47a4-ddc0-bc46123febea"
      },
      "source": [
        "type(a)"
      ],
      "execution_count": 11,
      "outputs": [
        {
          "output_type": "execute_result",
          "data": {
            "text/plain": [
              "numpy.ndarray"
            ]
          },
          "metadata": {
            "tags": []
          },
          "execution_count": 11
        }
      ]
    },
    {
      "cell_type": "code",
      "metadata": {
        "colab": {
          "base_uri": "https://localhost:8080/"
        },
        "id": "700Ne4ESDyRS",
        "outputId": "d22c237b-c23f-43dd-963a-71baae98c33a"
      },
      "source": [
        "a.dtype, a.shape"
      ],
      "execution_count": 12,
      "outputs": [
        {
          "output_type": "execute_result",
          "data": {
            "text/plain": [
              "(dtype('float64'), (4,))"
            ]
          },
          "metadata": {
            "tags": []
          },
          "execution_count": 12
        }
      ]
    },
    {
      "cell_type": "code",
      "metadata": {
        "id": "-nbiVTybENUF"
      },
      "source": [
        "# 하나의 데이터 타입만 배열에 넣을 수 있음"
      ],
      "execution_count": 13,
      "outputs": []
    },
    {
      "cell_type": "markdown",
      "metadata": {
        "id": "h251rObCFK-6"
      },
      "source": [
        "## 2. Array shape"
      ]
    },
    {
      "cell_type": "code",
      "metadata": {
        "colab": {
          "base_uri": "https://localhost:8080/"
        },
        "id": "2DGPSGLTFEN4",
        "outputId": "502a80fb-d141-440b-d07c-703224a3a495"
      },
      "source": [
        "# Vector(1차원)\n",
        "vec = np.array([1,4,5,8])\n",
        "vec.shape"
      ],
      "execution_count": 16,
      "outputs": [
        {
          "output_type": "execute_result",
          "data": {
            "text/plain": [
              "(4,)"
            ]
          },
          "metadata": {
            "tags": []
          },
          "execution_count": 16
        }
      ]
    },
    {
      "cell_type": "code",
      "metadata": {
        "colab": {
          "base_uri": "https://localhost:8080/"
        },
        "id": "N1wUNmFGFYPp",
        "outputId": "00929ada-8de4-4b58-ff21-1118297cc7a6"
      },
      "source": [
        "# Matrix(2차원)\n",
        "matrix = np.array([[1,2,3], [4,5,6]])\n",
        "print(matrix.shape)\n",
        "matrix"
      ],
      "execution_count": 18,
      "outputs": [
        {
          "output_type": "stream",
          "text": [
            "(2, 3)\n"
          ],
          "name": "stdout"
        },
        {
          "output_type": "execute_result",
          "data": {
            "text/plain": [
              "array([[1, 2, 3],\n",
              "       [4, 5, 6]])"
            ]
          },
          "metadata": {
            "tags": []
          },
          "execution_count": 18
        }
      ]
    },
    {
      "cell_type": "code",
      "metadata": {
        "colab": {
          "base_uri": "https://localhost:8080/"
        },
        "id": "XHfVRhCsFv7p",
        "outputId": "57c2ef55-b995-4650-e1a2-472d078c31aa"
      },
      "source": [
        "# Tensor(3차원 이상)\n",
        "# 입력이 어려워서 이렇게 입력함 (원래 이렇게 쓰는게 정석)\n",
        "tensor = np.arange(1,25).reshape(2,3,4)\n",
        "print(tensor)"
      ],
      "execution_count": 19,
      "outputs": [
        {
          "output_type": "stream",
          "text": [
            "[[[ 1  2  3  4]\n",
            "  [ 5  6  7  8]\n",
            "  [ 9 10 11 12]]\n",
            "\n",
            " [[13 14 15 16]\n",
            "  [17 18 19 20]\n",
            "  [21 22 23 24]]]\n"
          ],
          "name": "stdout"
        }
      ]
    },
    {
      "cell_type": "code",
      "metadata": {
        "colab": {
          "base_uri": "https://localhost:8080/"
        },
        "id": "nuxLp1M8GeL4",
        "outputId": "84877d9a-8e72-4fca-f7d4-83c559dbe045"
      },
      "source": [
        "tensor.shape"
      ],
      "execution_count": 20,
      "outputs": [
        {
          "output_type": "execute_result",
          "data": {
            "text/plain": [
              "(2, 3, 4)"
            ]
          },
          "metadata": {
            "tags": []
          },
          "execution_count": 20
        }
      ]
    },
    {
      "cell_type": "code",
      "metadata": {
        "colab": {
          "base_uri": "https://localhost:8080/"
        },
        "id": "3k9ev7ruGxre",
        "outputId": "4dc2af51-d87d-4b94-e865-01c6a42b3d96"
      },
      "source": [
        "vec.shape, matrix.shape, tensor.shape"
      ],
      "execution_count": 21,
      "outputs": [
        {
          "output_type": "execute_result",
          "data": {
            "text/plain": [
              "((4,), (2, 3), (2, 3, 4))"
            ]
          },
          "metadata": {
            "tags": []
          },
          "execution_count": 21
        }
      ]
    },
    {
      "cell_type": "code",
      "metadata": {
        "colab": {
          "base_uri": "https://localhost:8080/"
        },
        "id": "BlE1DrvqHKQV",
        "outputId": "ae168891-0a1c-48ea-9b24-3a9df89cd70e"
      },
      "source": [
        "# 원소(element) 갯수\n",
        "vec.size, matrix.size, tensor.size"
      ],
      "execution_count": 22,
      "outputs": [
        {
          "output_type": "execute_result",
          "data": {
            "text/plain": [
              "(4, 6, 24)"
            ]
          },
          "metadata": {
            "tags": []
          },
          "execution_count": 22
        }
      ]
    },
    {
      "cell_type": "code",
      "metadata": {
        "colab": {
          "base_uri": "https://localhost:8080/"
        },
        "id": "GsxOs3tZHUL8",
        "outputId": "f6a785be-8001-44d1-ec45-1a9f11482765"
      },
      "source": [
        "a = np.array([1,2,3], dtype = np.float32)\n",
        "# a = np.array([1,2,3], np.float32)\n",
        "a"
      ],
      "execution_count": 23,
      "outputs": [
        {
          "output_type": "execute_result",
          "data": {
            "text/plain": [
              "array([1., 2., 3.], dtype=float32)"
            ]
          },
          "metadata": {
            "tags": []
          },
          "execution_count": 23
        }
      ]
    },
    {
      "cell_type": "code",
      "metadata": {
        "colab": {
          "base_uri": "https://localhost:8080/"
        },
        "id": "DAiVLgp7H2mi",
        "outputId": "8189800b-fc4d-4a94-e9df-d94eecd0c885"
      },
      "source": [
        "b = np.array([1,2,3], dtype = np.int16)\n",
        "b"
      ],
      "execution_count": 26,
      "outputs": [
        {
          "output_type": "execute_result",
          "data": {
            "text/plain": [
              "array([1, 2, 3], dtype=int16)"
            ]
          },
          "metadata": {
            "tags": []
          },
          "execution_count": 26
        }
      ]
    },
    {
      "cell_type": "markdown",
      "metadata": {
        "id": "UogxyVEuItAZ"
      },
      "source": [
        " ## reshape"
      ]
    },
    {
      "cell_type": "code",
      "metadata": {
        "colab": {
          "base_uri": "https://localhost:8080/"
        },
        "id": "0q9GG9l7IMtH",
        "outputId": "a6a3015c-eccc-4f05-a8a8-2e7df07dbc5d"
      },
      "source": [
        "# array의 shape 변경(element 개수는 동일)\n",
        "matrix.shape"
      ],
      "execution_count": 27,
      "outputs": [
        {
          "output_type": "execute_result",
          "data": {
            "text/plain": [
              "(2, 3)"
            ]
          },
          "metadata": {
            "tags": []
          },
          "execution_count": 27
        }
      ]
    },
    {
      "cell_type": "code",
      "metadata": {
        "colab": {
          "base_uri": "https://localhost:8080/"
        },
        "id": "Gl5dSwVAIy44",
        "outputId": "ec5e277d-b874-4e2b-90eb-cbc35a149856"
      },
      "source": [
        "matrix.reshape(6,)"
      ],
      "execution_count": 29,
      "outputs": [
        {
          "output_type": "execute_result",
          "data": {
            "text/plain": [
              "array([1, 2, 3, 4, 5, 6])"
            ]
          },
          "metadata": {
            "tags": []
          },
          "execution_count": 29
        }
      ]
    },
    {
      "cell_type": "code",
      "metadata": {
        "colab": {
          "base_uri": "https://localhost:8080/"
        },
        "id": "a2G_NzSCI7wj",
        "outputId": "a6248a66-8d95-4501-e1e4-2baa8201deea"
      },
      "source": [
        "matrix.reshape(3,2)"
      ],
      "execution_count": 30,
      "outputs": [
        {
          "output_type": "execute_result",
          "data": {
            "text/plain": [
              "array([[1, 2],\n",
              "       [3, 4],\n",
              "       [5, 6]])"
            ]
          },
          "metadata": {
            "tags": []
          },
          "execution_count": 30
        }
      ]
    },
    {
      "cell_type": "code",
      "metadata": {
        "colab": {
          "base_uri": "https://localhost:8080/"
        },
        "id": "B7Z5lSOZJBZi",
        "outputId": "3f892ccf-e41d-4429-9623-e86fdd7596fa"
      },
      "source": [
        "# 알아서 맞춰줌\n",
        "matrix.reshape(-1,)"
      ],
      "execution_count": 31,
      "outputs": [
        {
          "output_type": "execute_result",
          "data": {
            "text/plain": [
              "array([1, 2, 3, 4, 5, 6])"
            ]
          },
          "metadata": {
            "tags": []
          },
          "execution_count": 31
        }
      ]
    },
    {
      "cell_type": "code",
      "metadata": {
        "colab": {
          "base_uri": "https://localhost:8080/"
        },
        "id": "n9vA4oBlJb9W",
        "outputId": "c4b3d1f3-590f-4bd2-bd98-bd91777f489c"
      },
      "source": [
        "matrix.reshape(3, -1)"
      ],
      "execution_count": 32,
      "outputs": [
        {
          "output_type": "execute_result",
          "data": {
            "text/plain": [
              "array([[1, 2],\n",
              "       [3, 4],\n",
              "       [5, 6]])"
            ]
          },
          "metadata": {
            "tags": []
          },
          "execution_count": 32
        }
      ]
    },
    {
      "cell_type": "code",
      "metadata": {
        "colab": {
          "base_uri": "https://localhost:8080/"
        },
        "id": "l67tYEOVKJyO",
        "outputId": "a6644253-43f1-40bd-c77e-e30cad685872"
      },
      "source": [
        "matrix.reshape(3, -1).shape"
      ],
      "execution_count": 33,
      "outputs": [
        {
          "output_type": "execute_result",
          "data": {
            "text/plain": [
              "(3, 2)"
            ]
          },
          "metadata": {
            "tags": []
          },
          "execution_count": 33
        }
      ]
    },
    {
      "cell_type": "code",
      "metadata": {
        "colab": {
          "base_uri": "https://localhost:8080/"
        },
        "id": "UejcoiiwKMrE",
        "outputId": "cc320e80-0f1b-4893-80f4-48332a7944d8"
      },
      "source": [
        "tensor.reshape(4, -1)"
      ],
      "execution_count": 36,
      "outputs": [
        {
          "output_type": "execute_result",
          "data": {
            "text/plain": [
              "array([[ 1,  2,  3,  4,  5,  6],\n",
              "       [ 7,  8,  9, 10, 11, 12],\n",
              "       [13, 14, 15, 16, 17, 18],\n",
              "       [19, 20, 21, 22, 23, 24]])"
            ]
          },
          "metadata": {
            "tags": []
          },
          "execution_count": 36
        }
      ]
    },
    {
      "cell_type": "code",
      "metadata": {
        "colab": {
          "base_uri": "https://localhost:8080/"
        },
        "id": "IV_Zz0JAKXR0",
        "outputId": "37468a58-73d6-44d6-ab8d-8a95cb234cce"
      },
      "source": [
        "tensor.reshape(4, -1).shape"
      ],
      "execution_count": 37,
      "outputs": [
        {
          "output_type": "execute_result",
          "data": {
            "text/plain": [
              "(4, 6)"
            ]
          },
          "metadata": {
            "tags": []
          },
          "execution_count": 37
        }
      ]
    },
    {
      "cell_type": "code",
      "metadata": {
        "colab": {
          "base_uri": "https://localhost:8080/"
        },
        "id": "sZezBV4_Kbjx",
        "outputId": "1b337f3e-58ee-4e68-f078-74c06ec4c6d2"
      },
      "source": [
        "matrix.reshape(-1,)"
      ],
      "execution_count": 38,
      "outputs": [
        {
          "output_type": "execute_result",
          "data": {
            "text/plain": [
              "array([1, 2, 3, 4, 5, 6])"
            ]
          },
          "metadata": {
            "tags": []
          },
          "execution_count": 38
        }
      ]
    },
    {
      "cell_type": "code",
      "metadata": {
        "colab": {
          "base_uri": "https://localhost:8080/"
        },
        "id": "ztbV_3MkNL-H",
        "outputId": "d36d7313-05e4-48e5-c4ac-3427b44beadb"
      },
      "source": [
        "matrix.reshape(1, -1)"
      ],
      "execution_count": 39,
      "outputs": [
        {
          "output_type": "execute_result",
          "data": {
            "text/plain": [
              "array([[1, 2, 3, 4, 5, 6]])"
            ]
          },
          "metadata": {
            "tags": []
          },
          "execution_count": 39
        }
      ]
    },
    {
      "cell_type": "code",
      "metadata": {
        "colab": {
          "base_uri": "https://localhost:8080/"
        },
        "id": "mcGUv6jXNO11",
        "outputId": "1ffd2b33-6a8f-4e19-bdb6-00db12db7b51"
      },
      "source": [
        "matrix.reshape(-1,1)"
      ],
      "execution_count": 40,
      "outputs": [
        {
          "output_type": "execute_result",
          "data": {
            "text/plain": [
              "array([[1],\n",
              "       [2],\n",
              "       [3],\n",
              "       [4],\n",
              "       [5],\n",
              "       [6]])"
            ]
          },
          "metadata": {
            "tags": []
          },
          "execution_count": 40
        }
      ]
    },
    {
      "cell_type": "code",
      "metadata": {
        "colab": {
          "base_uri": "https://localhost:8080/"
        },
        "id": "Z87rGUEhNRgz",
        "outputId": "3a0e16ac-869e-4b46-e067-bd4ef469ef89"
      },
      "source": [
        "matrix.reshape(-1,1)"
      ],
      "execution_count": 43,
      "outputs": [
        {
          "output_type": "execute_result",
          "data": {
            "text/plain": [
              "array([[1],\n",
              "       [2],\n",
              "       [3],\n",
              "       [4],\n",
              "       [5],\n",
              "       [6]])"
            ]
          },
          "metadata": {
            "tags": []
          },
          "execution_count": 43
        }
      ]
    },
    {
      "cell_type": "markdown",
      "metadata": {
        "id": "kryJuOAoOGdG"
      },
      "source": [
        "## flatten"
      ]
    },
    {
      "cell_type": "code",
      "metadata": {
        "colab": {
          "base_uri": "https://localhost:8080/"
        },
        "id": "zX9wgVxQNZTS",
        "outputId": "fcf40bc3-e20d-4b66-fd49-4e0a598813be"
      },
      "source": [
        "tensor.reshape(-1,)"
      ],
      "execution_count": 47,
      "outputs": [
        {
          "output_type": "execute_result",
          "data": {
            "text/plain": [
              "array([ 1,  2,  3,  4,  5,  6,  7,  8,  9, 10, 11, 12, 13, 14, 15, 16, 17,\n",
              "       18, 19, 20, 21, 22, 23, 24])"
            ]
          },
          "metadata": {
            "tags": []
          },
          "execution_count": 47
        }
      ]
    },
    {
      "cell_type": "code",
      "metadata": {
        "colab": {
          "base_uri": "https://localhost:8080/"
        },
        "id": "s5kM_0lkOLPj",
        "outputId": "0b0c3e65-c14f-4095-b87a-09273afd59c6"
      },
      "source": [
        "tensor.flatten()"
      ],
      "execution_count": 46,
      "outputs": [
        {
          "output_type": "execute_result",
          "data": {
            "text/plain": [
              "array([ 1,  2,  3,  4,  5,  6,  7,  8,  9, 10, 11, 12, 13, 14, 15, 16, 17,\n",
              "       18, 19, 20, 21, 22, 23, 24])"
            ]
          },
          "metadata": {
            "tags": []
          },
          "execution_count": 46
        }
      ]
    },
    {
      "cell_type": "markdown",
      "metadata": {
        "id": "3TRLRuAPRKKS"
      },
      "source": [
        "## 3. Indexing & Slicing"
      ]
    },
    {
      "cell_type": "markdown",
      "metadata": {
        "id": "Qd_VKho3RVjx"
      },
      "source": [
        "### Indexing"
      ]
    },
    {
      "cell_type": "code",
      "metadata": {
        "colab": {
          "base_uri": "https://localhost:8080/"
        },
        "id": "N0aCFbwfONDT",
        "outputId": "28c1294a-e673-4f7a-eb29-4ea4848b9dd9"
      },
      "source": [
        "matrix"
      ],
      "execution_count": 49,
      "outputs": [
        {
          "output_type": "execute_result",
          "data": {
            "text/plain": [
              "array([[1, 2, 3],\n",
              "       [4, 5, 6]])"
            ]
          },
          "metadata": {
            "tags": []
          },
          "execution_count": 49
        }
      ]
    },
    {
      "cell_type": "code",
      "metadata": {
        "colab": {
          "base_uri": "https://localhost:8080/"
        },
        "id": "FRWBMtbiRRKF",
        "outputId": "e92fa139-6461-4924-d0b6-30e6bd711f0f"
      },
      "source": [
        "matrix[0][1]"
      ],
      "execution_count": 50,
      "outputs": [
        {
          "output_type": "execute_result",
          "data": {
            "text/plain": [
              "2"
            ]
          },
          "metadata": {
            "tags": []
          },
          "execution_count": 50
        }
      ]
    },
    {
      "cell_type": "code",
      "metadata": {
        "colab": {
          "base_uri": "https://localhost:8080/"
        },
        "id": "oCEbyOzsRotu",
        "outputId": "071ff7c4-8a86-4b43-b9b7-5566912ed268"
      },
      "source": [
        "matrix[0,1]"
      ],
      "execution_count": 51,
      "outputs": [
        {
          "output_type": "execute_result",
          "data": {
            "text/plain": [
              "2"
            ]
          },
          "metadata": {
            "tags": []
          },
          "execution_count": 51
        }
      ]
    },
    {
      "cell_type": "code",
      "metadata": {
        "colab": {
          "base_uri": "https://localhost:8080/"
        },
        "id": "mumL9no0RqRG",
        "outputId": "f6b7c385-770a-44f6-8a5f-e5f9cbb95aea"
      },
      "source": [
        "tensor[1,1,2]"
      ],
      "execution_count": 52,
      "outputs": [
        {
          "output_type": "execute_result",
          "data": {
            "text/plain": [
              "19"
            ]
          },
          "metadata": {
            "tags": []
          },
          "execution_count": 52
        }
      ]
    },
    {
      "cell_type": "markdown",
      "metadata": {
        "id": "km3wiKgQRtfL"
      },
      "source": [
        "### slicing"
      ]
    },
    {
      "cell_type": "code",
      "metadata": {
        "colab": {
          "base_uri": "https://localhost:8080/"
        },
        "id": "YsQDsVjCRsRb",
        "outputId": "13adfeea-912f-4d2d-da45-a78f2d477fab"
      },
      "source": [
        "b = np.arange(16).reshape(4,-1)\n",
        "b"
      ],
      "execution_count": 53,
      "outputs": [
        {
          "output_type": "execute_result",
          "data": {
            "text/plain": [
              "array([[ 0,  1,  2,  3],\n",
              "       [ 4,  5,  6,  7],\n",
              "       [ 8,  9, 10, 11],\n",
              "       [12, 13, 14, 15]])"
            ]
          },
          "metadata": {
            "tags": []
          },
          "execution_count": 53
        }
      ]
    },
    {
      "cell_type": "code",
      "metadata": {
        "colab": {
          "base_uri": "https://localhost:8080/"
        },
        "id": "gME1_vobR3i_",
        "outputId": "94a87ce8-f94b-4348-dadd-b883a2f4892c"
      },
      "source": [
        "# 5,6,9,10\n",
        "b[1:3, 1:3]"
      ],
      "execution_count": 54,
      "outputs": [
        {
          "output_type": "execute_result",
          "data": {
            "text/plain": [
              "array([[ 5,  6],\n",
              "       [ 9, 10]])"
            ]
          },
          "metadata": {
            "tags": []
          },
          "execution_count": 54
        }
      ]
    },
    {
      "cell_type": "code",
      "metadata": {
        "colab": {
          "base_uri": "https://localhost:8080/"
        },
        "id": "j3cCYeqySK4x",
        "outputId": "13541d0b-51a7-48f6-89c1-6bd4f5919a51"
      },
      "source": [
        "# 5,6,7,9,10,11\n",
        "b[1:3, 1:]"
      ],
      "execution_count": 57,
      "outputs": [
        {
          "output_type": "execute_result",
          "data": {
            "text/plain": [
              "array([[ 5,  6,  7],\n",
              "       [ 9, 10, 11]])"
            ]
          },
          "metadata": {
            "tags": []
          },
          "execution_count": 57
        }
      ]
    },
    {
      "cell_type": "code",
      "metadata": {
        "colab": {
          "base_uri": "https://localhost:8080/"
        },
        "id": "wpzXJMP3Seag",
        "outputId": "49fc5a34-0fef-48ac-a584-bd938cf82500"
      },
      "source": [
        "# 1,3,9,11\n",
        "b[::2, 1::2]"
      ],
      "execution_count": 59,
      "outputs": [
        {
          "output_type": "execute_result",
          "data": {
            "text/plain": [
              "array([[ 1,  3],\n",
              "       [ 9, 11]])"
            ]
          },
          "metadata": {
            "tags": []
          },
          "execution_count": 59
        }
      ]
    },
    {
      "cell_type": "code",
      "metadata": {
        "colab": {
          "base_uri": "https://localhost:8080/"
        },
        "id": "xLzMsqxWS1Lt",
        "outputId": "285284cd-7783-40ac-d662-91a5c561dee8"
      },
      "source": [
        "# X는 앞에 3열(마지막열 제외한 전체 열), y는 마지막 열\n",
        "X, y = b[:, :-1], b[:, -1]\n",
        "X.shape, y.shape"
      ],
      "execution_count": 61,
      "outputs": [
        {
          "output_type": "execute_result",
          "data": {
            "text/plain": [
              "((4, 3), (4,))"
            ]
          },
          "metadata": {
            "tags": []
          },
          "execution_count": 61
        }
      ]
    },
    {
      "cell_type": "code",
      "metadata": {
        "id": "SCSSBPwiT-p1"
      },
      "source": [
        ""
      ],
      "execution_count": null,
      "outputs": []
    }
  ]
}