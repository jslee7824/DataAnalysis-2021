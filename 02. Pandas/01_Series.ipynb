{
  "nbformat": 4,
  "nbformat_minor": 0,
  "metadata": {
    "colab": {
      "name": "01_Series.ipynb",
      "provenance": [],
      "collapsed_sections": []
    },
    "kernelspec": {
      "name": "python3",
      "display_name": "Python 3"
    },
    "language_info": {
      "name": "python"
    }
  },
  "cells": [
    {
      "cell_type": "markdown",
      "metadata": {
        "id": "gKiykUA6rgWo"
      },
      "source": [
        "# Pandas - Series"
      ]
    },
    {
      "cell_type": "code",
      "metadata": {
        "id": "C-Abtpanrfru"
      },
      "source": [
        "import numpy as np # 없어도 괜찮\n",
        "import pandas as pd"
      ],
      "execution_count": 1,
      "outputs": []
    },
    {
      "cell_type": "markdown",
      "metadata": {
        "id": "UoYx8z2Yro79"
      },
      "source": [
        "## 시리즈 생성"
      ]
    },
    {
      "cell_type": "code",
      "metadata": {
        "colab": {
          "base_uri": "https://localhost:8080/"
        },
        "id": "XUIuYSkvroKI",
        "outputId": "a4e90454-cb76-4de8-db68-ad12289e9428"
      },
      "source": [
        "s = pd.Series([8987, 567678, 532378,3])\n",
        "s"
      ],
      "execution_count": 3,
      "outputs": [
        {
          "output_type": "execute_result",
          "data": {
            "text/plain": [
              "0      8987\n",
              "1    567678\n",
              "2    532378\n",
              "3         3\n",
              "dtype: int64"
            ]
          },
          "metadata": {
            "tags": []
          },
          "execution_count": 3
        }
      ]
    },
    {
      "cell_type": "code",
      "metadata": {
        "colab": {
          "base_uri": "https://localhost:8080/"
        },
        "id": "2eWKNTnOwndY",
        "outputId": "74da1f5a-c315-4fa6-d480-030fd5e35914"
      },
      "source": [
        "s = pd.Series([8987, 567678, 532378,3],\n",
        "              index=['서울','부산','인천','대구'], dtype=np.int32)\n",
        "s"
      ],
      "execution_count": 5,
      "outputs": [
        {
          "output_type": "execute_result",
          "data": {
            "text/plain": [
              "서울      8987\n",
              "부산    567678\n",
              "인천    532378\n",
              "대구         3\n",
              "dtype: int32"
            ]
          },
          "metadata": {
            "tags": []
          },
          "execution_count": 5
        }
      ]
    },
    {
      "cell_type": "code",
      "metadata": {
        "colab": {
          "base_uri": "https://localhost:8080/"
        },
        "id": "2ud8nFg2xJle",
        "outputId": "33c1ffd1-5c63-4f01-dac6-ab2f8cc320f0"
      },
      "source": [
        "# 시리즈의 값 - 넘파이 배열\n",
        "s.values"
      ],
      "execution_count": 6,
      "outputs": [
        {
          "output_type": "execute_result",
          "data": {
            "text/plain": [
              "array([  8987, 567678, 532378,      3], dtype=int32)"
            ]
          },
          "metadata": {
            "tags": []
          },
          "execution_count": 6
        }
      ]
    },
    {
      "cell_type": "code",
      "metadata": {
        "colab": {
          "base_uri": "https://localhost:8080/"
        },
        "id": "UjCFFXAPxmFz",
        "outputId": "60a86b0e-0563-494b-e010-d2704447276b"
      },
      "source": [
        "# 시리즈의 인덱스 \n",
        "s.index"
      ],
      "execution_count": 7,
      "outputs": [
        {
          "output_type": "execute_result",
          "data": {
            "text/plain": [
              "Index(['서울', '부산', '인천', '대구'], dtype='object')"
            ]
          },
          "metadata": {
            "tags": []
          },
          "execution_count": 7
        }
      ]
    },
    {
      "cell_type": "code",
      "metadata": {
        "colab": {
          "base_uri": "https://localhost:8080/"
        },
        "id": "8-ouYMxjxrDL",
        "outputId": "44109336-7a5a-45b8-f959-18d2c03e2a5e"
      },
      "source": [
        "s.name = '인구'\n",
        "s.index.name = '도시'\n",
        "s"
      ],
      "execution_count": 9,
      "outputs": [
        {
          "output_type": "execute_result",
          "data": {
            "text/plain": [
              "도시\n",
              "서울      8987\n",
              "부산    567678\n",
              "인천    532378\n",
              "대구         3\n",
              "Name: 인구, dtype: int32"
            ]
          },
          "metadata": {
            "tags": []
          },
          "execution_count": 9
        }
      ]
    },
    {
      "cell_type": "markdown",
      "metadata": {
        "id": "3sIIfquSyFPa"
      },
      "source": [
        "## 시리즈의 연산"
      ]
    },
    {
      "cell_type": "code",
      "metadata": {
        "colab": {
          "base_uri": "https://localhost:8080/"
        },
        "id": "QbI9TbI-x5Ui",
        "outputId": "cf142ba6-c06a-46c4-eac1-bdfa6b6831f6"
      },
      "source": [
        "s / 10000 #타입이 float(실수형)으로 바뀜"
      ],
      "execution_count": 11,
      "outputs": [
        {
          "output_type": "execute_result",
          "data": {
            "text/plain": [
              "도시\n",
              "서울     0.8987\n",
              "부산    56.7678\n",
              "인천    53.2378\n",
              "대구     0.0003\n",
              "Name: 인구, dtype: float64"
            ]
          },
          "metadata": {
            "tags": []
          },
          "execution_count": 11
        }
      ]
    },
    {
      "cell_type": "markdown",
      "metadata": {
        "id": "Lsjc1ueoypNc"
      },
      "source": [
        "## 시리즈 인덱싱"
      ]
    },
    {
      "cell_type": "code",
      "metadata": {
        "colab": {
          "base_uri": "https://localhost:8080/"
        },
        "id": "er_kZjhLyPsk",
        "outputId": "90ea3d55-4413-4e32-c9d3-754923b97b2f"
      },
      "source": [
        "s[1], s['부산']"
      ],
      "execution_count": 12,
      "outputs": [
        {
          "output_type": "execute_result",
          "data": {
            "text/plain": [
              "(567678, 567678)"
            ]
          },
          "metadata": {
            "tags": []
          },
          "execution_count": 12
        }
      ]
    },
    {
      "cell_type": "code",
      "metadata": {
        "colab": {
          "base_uri": "https://localhost:8080/"
        },
        "id": "pOt2KTUAzHPf",
        "outputId": "bde2f54f-e3e9-4a55-e5db-0f1731aad5c3"
      },
      "source": [
        "# fancy indexing in numpy\n",
        "s[[0,3,1]]"
      ],
      "execution_count": 14,
      "outputs": [
        {
          "output_type": "execute_result",
          "data": {
            "text/plain": [
              "도시\n",
              "서울      8987\n",
              "대구         3\n",
              "부산    567678\n",
              "Name: 인구, dtype: int32"
            ]
          },
          "metadata": {
            "tags": []
          },
          "execution_count": 14
        }
      ]
    },
    {
      "cell_type": "code",
      "metadata": {
        "colab": {
          "base_uri": "https://localhost:8080/"
        },
        "id": "jcoGVQN4znfK",
        "outputId": "26d8c6b0-2712-49ef-9d88-a4de45482845"
      },
      "source": [
        "# slicing\n",
        "s[1:3]"
      ],
      "execution_count": 16,
      "outputs": [
        {
          "output_type": "execute_result",
          "data": {
            "text/plain": [
              "도시\n",
              "부산    567678\n",
              "인천    532378\n",
              "Name: 인구, dtype: int32"
            ]
          },
          "metadata": {
            "tags": []
          },
          "execution_count": 16
        }
      ]
    },
    {
      "cell_type": "code",
      "metadata": {
        "colab": {
          "base_uri": "https://localhost:8080/"
        },
        "id": "JEV9Ciyszsu4",
        "outputId": "5036b157-797d-48d8-ebb8-526be3b0e4f8"
      },
      "source": [
        "# 인덱스로 슬라이싱하면 마지막도 포함\n",
        "s['부산':'대구']"
      ],
      "execution_count": 19,
      "outputs": [
        {
          "output_type": "execute_result",
          "data": {
            "text/plain": [
              "도시\n",
              "부산    567678\n",
              "인천    532378\n",
              "대구         3\n",
              "Name: 인구, dtype: int32"
            ]
          },
          "metadata": {
            "tags": []
          },
          "execution_count": 19
        }
      ]
    },
    {
      "cell_type": "code",
      "metadata": {
        "colab": {
          "base_uri": "https://localhost:8080/"
        },
        "id": "_Dd7mFTjz5pp",
        "outputId": "b039a5be-7d01-41fd-d16a-b89a842f1803"
      },
      "source": [
        "# 필터링 d\n",
        "#s[2500 < s <300000] #불가\n",
        "s[(250 < s) & (s < 500000)]\n"
      ],
      "execution_count": 22,
      "outputs": [
        {
          "output_type": "execute_result",
          "data": {
            "text/plain": [
              "도시\n",
              "서울    8987\n",
              "Name: 인구, dtype: int32"
            ]
          },
          "metadata": {
            "tags": []
          },
          "execution_count": 22
        }
      ]
    },
    {
      "cell_type": "code",
      "metadata": {
        "colab": {
          "base_uri": "https://localhost:8080/"
        },
        "id": "Z4AS1xBy0jgf",
        "outputId": "c56d1280-5130-4d95-9cb5-561d57d7566f"
      },
      "source": [
        "s[(s<25e5) | (s>4e6)]"
      ],
      "execution_count": 23,
      "outputs": [
        {
          "output_type": "execute_result",
          "data": {
            "text/plain": [
              "도시\n",
              "서울      8987\n",
              "부산    567678\n",
              "인천    532378\n",
              "대구         3\n",
              "Name: 인구, dtype: int32"
            ]
          },
          "metadata": {
            "tags": []
          },
          "execution_count": 23
        }
      ]
    },
    {
      "cell_type": "code",
      "metadata": {
        "colab": {
          "base_uri": "https://localhost:8080/"
        },
        "id": "gEz_nVCs1xdk",
        "outputId": "be7a3e1e-7158-4a1e-c429-b8445b083718"
      },
      "source": [
        "s.부산"
      ],
      "execution_count": 24,
      "outputs": [
        {
          "output_type": "execute_result",
          "data": {
            "text/plain": [
              "567678"
            ]
          },
          "metadata": {
            "tags": []
          },
          "execution_count": 24
        }
      ]
    },
    {
      "cell_type": "markdown",
      "metadata": {
        "id": "cvPknZYp2lg9"
      },
      "source": [
        "## 시리즈와 딕셔너리"
      ]
    },
    {
      "cell_type": "code",
      "metadata": {
        "colab": {
          "base_uri": "https://localhost:8080/"
        },
        "id": "sYNHiBTJ1zXP",
        "outputId": "0ed98595-3d64-4385-aa55-74df123647b4"
      },
      "source": [
        "# 시리즈 만들때는 굳이 권장하지 않음\n",
        "# df에 사용\n",
        "s2 = pd.Series({\"서울\":9897679, \"부산\":8768767, \"인천\":5798789, \"대전\":290076})\n",
        "s2"
      ],
      "execution_count": 25,
      "outputs": [
        {
          "output_type": "execute_result",
          "data": {
            "text/plain": [
              "서울    9897679\n",
              "부산    8768767\n",
              "인천    5798789\n",
              "대전     290076\n",
              "dtype: int64"
            ]
          },
          "metadata": {
            "tags": []
          },
          "execution_count": 25
        }
      ]
    },
    {
      "cell_type": "markdown",
      "metadata": {
        "id": "AjE2sL9B3XxV"
      },
      "source": [
        "## 인덱스 기반 연산"
      ]
    },
    {
      "cell_type": "code",
      "metadata": {
        "colab": {
          "base_uri": "https://localhost:8080/"
        },
        "id": "_VPWlzr024no",
        "outputId": "d31a60d0-2914-4a87-ca1f-55b6a4760c8d"
      },
      "source": [
        "s - s2"
      ],
      "execution_count": 26,
      "outputs": [
        {
          "output_type": "execute_result",
          "data": {
            "text/plain": [
              "대구          NaN\n",
              "대전          NaN\n",
              "부산   -8201089.0\n",
              "서울   -9888692.0\n",
              "인천   -5266411.0\n",
              "dtype: float64"
            ]
          },
          "metadata": {
            "tags": []
          },
          "execution_count": 26
        }
      ]
    },
    {
      "cell_type": "code",
      "metadata": {
        "colab": {
          "base_uri": "https://localhost:8080/"
        },
        "id": "EAzQfhZ64Ovk",
        "outputId": "e9f4d1e7-b9dc-4c71-b97a-ebcf827bf539"
      },
      "source": [
        "s.values - s2.values"
      ],
      "execution_count": 29,
      "outputs": [
        {
          "output_type": "execute_result",
          "data": {
            "text/plain": [
              "array([-9888692, -8201089, -5266411,  -290073])"
            ]
          },
          "metadata": {
            "tags": []
          },
          "execution_count": 29
        }
      ]
    },
    {
      "cell_type": "code",
      "metadata": {
        "colab": {
          "base_uri": "https://localhost:8080/"
        },
        "id": "2MszMVf33xQG",
        "outputId": "c9508827-3962-4966-f1d1-91943abd793b"
      },
      "source": [
        "rs = (s-s2)/s2 * 100\n",
        "rs"
      ],
      "execution_count": 30,
      "outputs": [
        {
          "output_type": "execute_result",
          "data": {
            "text/plain": [
              "대구          NaN\n",
              "대전          NaN\n",
              "부산   -93.526137\n",
              "서울   -99.909201\n",
              "인천   -90.819152\n",
              "dtype: float64"
            ]
          },
          "metadata": {
            "tags": []
          },
          "execution_count": 30
        }
      ]
    },
    {
      "cell_type": "code",
      "metadata": {
        "colab": {
          "base_uri": "https://localhost:8080/"
        },
        "id": "kHisW9wp4L-W",
        "outputId": "7ef0feea-7497-405e-eebf-0efd033b9c3f"
      },
      "source": [
        "rs.notnull()"
      ],
      "execution_count": 31,
      "outputs": [
        {
          "output_type": "execute_result",
          "data": {
            "text/plain": [
              "대구    False\n",
              "대전    False\n",
              "부산     True\n",
              "서울     True\n",
              "인천     True\n",
              "dtype: bool"
            ]
          },
          "metadata": {
            "tags": []
          },
          "execution_count": 31
        }
      ]
    },
    {
      "cell_type": "code",
      "metadata": {
        "colab": {
          "base_uri": "https://localhost:8080/"
        },
        "id": "NrT8_rfE4WKG",
        "outputId": "246624cb-c777-4cdd-924b-c3c44545f0ad"
      },
      "source": [
        "rs[rs.notnull()]"
      ],
      "execution_count": 32,
      "outputs": [
        {
          "output_type": "execute_result",
          "data": {
            "text/plain": [
              "부산   -93.526137\n",
              "서울   -99.909201\n",
              "인천   -90.819152\n",
              "dtype: float64"
            ]
          },
          "metadata": {
            "tags": []
          },
          "execution_count": 32
        }
      ]
    },
    {
      "cell_type": "markdown",
      "metadata": {
        "id": "edmuDdSD4aUU"
      },
      "source": [
        "## 데이터의 갱신, 추가, 삭제"
      ]
    },
    {
      "cell_type": "code",
      "metadata": {
        "colab": {
          "base_uri": "https://localhost:8080/"
        },
        "id": "1YU6sj3d4YuP",
        "outputId": "d526e18a-5f0e-4661-fd8c-73043ada5a6d"
      },
      "source": [
        "# Update\n",
        "rs['부산'] = 1.63\n",
        "rs"
      ],
      "execution_count": 33,
      "outputs": [
        {
          "output_type": "execute_result",
          "data": {
            "text/plain": [
              "대구          NaN\n",
              "대전          NaN\n",
              "부산     1.630000\n",
              "서울   -99.909201\n",
              "인천   -90.819152\n",
              "dtype: float64"
            ]
          },
          "metadata": {
            "tags": []
          },
          "execution_count": 33
        }
      ]
    },
    {
      "cell_type": "code",
      "metadata": {
        "colab": {
          "base_uri": "https://localhost:8080/"
        },
        "id": "snSBGiTy4jCC",
        "outputId": "fb123d0b-f757-4376-abf7-0c1b6df48255"
      },
      "source": [
        "# 추가\n",
        "rs['대구'] = 1.41\n",
        "rs"
      ],
      "execution_count": 35,
      "outputs": [
        {
          "output_type": "execute_result",
          "data": {
            "text/plain": [
              "대구     1.410000\n",
              "대전          NaN\n",
              "부산     1.630000\n",
              "서울   -99.909201\n",
              "인천   -90.819152\n",
              "dtype: float64"
            ]
          },
          "metadata": {
            "tags": []
          },
          "execution_count": 35
        }
      ]
    },
    {
      "cell_type": "code",
      "metadata": {
        "colab": {
          "base_uri": "https://localhost:8080/"
        },
        "id": "qjttVIVz4wYj",
        "outputId": "cbfcff6d-de06-458f-c5f1-9501cfcc34e8"
      },
      "source": [
        "# 삭제\n",
        "del rs['부산']\n",
        "rs"
      ],
      "execution_count": 36,
      "outputs": [
        {
          "output_type": "execute_result",
          "data": {
            "text/plain": [
              "대구     1.410000\n",
              "대전          NaN\n",
              "서울   -99.909201\n",
              "인천   -90.819152\n",
              "dtype: float64"
            ]
          },
          "metadata": {
            "tags": []
          },
          "execution_count": 36
        }
      ]
    },
    {
      "cell_type": "code",
      "metadata": {
        "id": "aW-9-f5_5AEB"
      },
      "source": [
        ""
      ],
      "execution_count": null,
      "outputs": []
    }
  ]
}