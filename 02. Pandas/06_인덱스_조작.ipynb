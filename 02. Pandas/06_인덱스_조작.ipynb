{
  "nbformat": 4,
  "nbformat_minor": 0,
  "metadata": {
    "colab": {
      "name": "06_인덱스 조작.ipynb",
      "provenance": [],
      "collapsed_sections": []
    },
    "kernelspec": {
      "name": "python3",
      "display_name": "Python 3"
    },
    "language_info": {
      "name": "python"
    }
  },
  "cells": [
    {
      "cell_type": "markdown",
      "metadata": {
        "id": "T9TnuQFlOr3N"
      },
      "source": [
        "# 데이터프레임 인덱스 조작"
      ]
    },
    {
      "cell_type": "code",
      "metadata": {
        "id": "v5e7cguRQYwI"
      },
      "source": [
        "import numpy as np\n",
        "import pandas as pd"
      ],
      "execution_count": 1,
      "outputs": []
    },
    {
      "cell_type": "markdown",
      "metadata": {
        "id": "ED0XqYJPOvmn"
      },
      "source": [
        "## 인덱스 설정 및 제거"
      ]
    },
    {
      "cell_type": "code",
      "metadata": {
        "colab": {
          "base_uri": "https://localhost:8080/",
          "height": 206
        },
        "id": "kMDPhsXiPz3u",
        "outputId": "fae946e2-a956-49f3-a0a5-2b6ffa50e6a6"
      },
      "source": [
        "np.random.seed(0)\n",
        "df1 = pd.DataFrame(np.vstack([list('ABCDE'),\n",
        "                              np.round(np.random.rand(3, 5), 2)]).T,\n",
        "                   columns=[\"C1\", \"C2\", \"C3\", \"C4\"])\n",
        "df1"
      ],
      "execution_count": 2,
      "outputs": [
        {
          "output_type": "execute_result",
          "data": {
            "text/html": [
              "<div>\n",
              "<style scoped>\n",
              "    .dataframe tbody tr th:only-of-type {\n",
              "        vertical-align: middle;\n",
              "    }\n",
              "\n",
              "    .dataframe tbody tr th {\n",
              "        vertical-align: top;\n",
              "    }\n",
              "\n",
              "    .dataframe thead th {\n",
              "        text-align: right;\n",
              "    }\n",
              "</style>\n",
              "<table border=\"1\" class=\"dataframe\">\n",
              "  <thead>\n",
              "    <tr style=\"text-align: right;\">\n",
              "      <th></th>\n",
              "      <th>C1</th>\n",
              "      <th>C2</th>\n",
              "      <th>C3</th>\n",
              "      <th>C4</th>\n",
              "    </tr>\n",
              "  </thead>\n",
              "  <tbody>\n",
              "    <tr>\n",
              "      <th>0</th>\n",
              "      <td>A</td>\n",
              "      <td>0.55</td>\n",
              "      <td>0.65</td>\n",
              "      <td>0.79</td>\n",
              "    </tr>\n",
              "    <tr>\n",
              "      <th>1</th>\n",
              "      <td>B</td>\n",
              "      <td>0.72</td>\n",
              "      <td>0.44</td>\n",
              "      <td>0.53</td>\n",
              "    </tr>\n",
              "    <tr>\n",
              "      <th>2</th>\n",
              "      <td>C</td>\n",
              "      <td>0.6</td>\n",
              "      <td>0.89</td>\n",
              "      <td>0.57</td>\n",
              "    </tr>\n",
              "    <tr>\n",
              "      <th>3</th>\n",
              "      <td>D</td>\n",
              "      <td>0.54</td>\n",
              "      <td>0.96</td>\n",
              "      <td>0.93</td>\n",
              "    </tr>\n",
              "    <tr>\n",
              "      <th>4</th>\n",
              "      <td>E</td>\n",
              "      <td>0.42</td>\n",
              "      <td>0.38</td>\n",
              "      <td>0.07</td>\n",
              "    </tr>\n",
              "  </tbody>\n",
              "</table>\n",
              "</div>"
            ],
            "text/plain": [
              "  C1    C2    C3    C4\n",
              "0  A  0.55  0.65  0.79\n",
              "1  B  0.72  0.44  0.53\n",
              "2  C   0.6  0.89  0.57\n",
              "3  D  0.54  0.96  0.93\n",
              "4  E  0.42  0.38  0.07"
            ]
          },
          "metadata": {
            "tags": []
          },
          "execution_count": 2
        }
      ]
    },
    {
      "cell_type": "code",
      "metadata": {
        "colab": {
          "base_uri": "https://localhost:8080/",
          "height": 237
        },
        "id": "AqDuuAmeQPV4",
        "outputId": "8e60066d-3b2a-4e46-892e-128f3b611b58"
      },
      "source": [
        "df2 = df1.set_index('C1')\n",
        "df2"
      ],
      "execution_count": 3,
      "outputs": [
        {
          "output_type": "execute_result",
          "data": {
            "text/html": [
              "<div>\n",
              "<style scoped>\n",
              "    .dataframe tbody tr th:only-of-type {\n",
              "        vertical-align: middle;\n",
              "    }\n",
              "\n",
              "    .dataframe tbody tr th {\n",
              "        vertical-align: top;\n",
              "    }\n",
              "\n",
              "    .dataframe thead th {\n",
              "        text-align: right;\n",
              "    }\n",
              "</style>\n",
              "<table border=\"1\" class=\"dataframe\">\n",
              "  <thead>\n",
              "    <tr style=\"text-align: right;\">\n",
              "      <th></th>\n",
              "      <th>C2</th>\n",
              "      <th>C3</th>\n",
              "      <th>C4</th>\n",
              "    </tr>\n",
              "    <tr>\n",
              "      <th>C1</th>\n",
              "      <th></th>\n",
              "      <th></th>\n",
              "      <th></th>\n",
              "    </tr>\n",
              "  </thead>\n",
              "  <tbody>\n",
              "    <tr>\n",
              "      <th>A</th>\n",
              "      <td>0.55</td>\n",
              "      <td>0.65</td>\n",
              "      <td>0.79</td>\n",
              "    </tr>\n",
              "    <tr>\n",
              "      <th>B</th>\n",
              "      <td>0.72</td>\n",
              "      <td>0.44</td>\n",
              "      <td>0.53</td>\n",
              "    </tr>\n",
              "    <tr>\n",
              "      <th>C</th>\n",
              "      <td>0.6</td>\n",
              "      <td>0.89</td>\n",
              "      <td>0.57</td>\n",
              "    </tr>\n",
              "    <tr>\n",
              "      <th>D</th>\n",
              "      <td>0.54</td>\n",
              "      <td>0.96</td>\n",
              "      <td>0.93</td>\n",
              "    </tr>\n",
              "    <tr>\n",
              "      <th>E</th>\n",
              "      <td>0.42</td>\n",
              "      <td>0.38</td>\n",
              "      <td>0.07</td>\n",
              "    </tr>\n",
              "  </tbody>\n",
              "</table>\n",
              "</div>"
            ],
            "text/plain": [
              "      C2    C3    C4\n",
              "C1                  \n",
              "A   0.55  0.65  0.79\n",
              "B   0.72  0.44  0.53\n",
              "C    0.6  0.89  0.57\n",
              "D   0.54  0.96  0.93\n",
              "E   0.42  0.38  0.07"
            ]
          },
          "metadata": {
            "tags": []
          },
          "execution_count": 3
        }
      ]
    },
    {
      "cell_type": "code",
      "metadata": {
        "colab": {
          "base_uri": "https://localhost:8080/",
          "height": 206
        },
        "id": "BI3k5ZGzQrA_",
        "outputId": "45fc1dbe-105c-458b-b936-59b08db59ee0"
      },
      "source": [
        "df2.reset_index(inplace=True)\n",
        "df2"
      ],
      "execution_count": 4,
      "outputs": [
        {
          "output_type": "execute_result",
          "data": {
            "text/html": [
              "<div>\n",
              "<style scoped>\n",
              "    .dataframe tbody tr th:only-of-type {\n",
              "        vertical-align: middle;\n",
              "    }\n",
              "\n",
              "    .dataframe tbody tr th {\n",
              "        vertical-align: top;\n",
              "    }\n",
              "\n",
              "    .dataframe thead th {\n",
              "        text-align: right;\n",
              "    }\n",
              "</style>\n",
              "<table border=\"1\" class=\"dataframe\">\n",
              "  <thead>\n",
              "    <tr style=\"text-align: right;\">\n",
              "      <th></th>\n",
              "      <th>C1</th>\n",
              "      <th>C2</th>\n",
              "      <th>C3</th>\n",
              "      <th>C4</th>\n",
              "    </tr>\n",
              "  </thead>\n",
              "  <tbody>\n",
              "    <tr>\n",
              "      <th>0</th>\n",
              "      <td>A</td>\n",
              "      <td>0.55</td>\n",
              "      <td>0.65</td>\n",
              "      <td>0.79</td>\n",
              "    </tr>\n",
              "    <tr>\n",
              "      <th>1</th>\n",
              "      <td>B</td>\n",
              "      <td>0.72</td>\n",
              "      <td>0.44</td>\n",
              "      <td>0.53</td>\n",
              "    </tr>\n",
              "    <tr>\n",
              "      <th>2</th>\n",
              "      <td>C</td>\n",
              "      <td>0.6</td>\n",
              "      <td>0.89</td>\n",
              "      <td>0.57</td>\n",
              "    </tr>\n",
              "    <tr>\n",
              "      <th>3</th>\n",
              "      <td>D</td>\n",
              "      <td>0.54</td>\n",
              "      <td>0.96</td>\n",
              "      <td>0.93</td>\n",
              "    </tr>\n",
              "    <tr>\n",
              "      <th>4</th>\n",
              "      <td>E</td>\n",
              "      <td>0.42</td>\n",
              "      <td>0.38</td>\n",
              "      <td>0.07</td>\n",
              "    </tr>\n",
              "  </tbody>\n",
              "</table>\n",
              "</div>"
            ],
            "text/plain": [
              "  C1    C2    C3    C4\n",
              "0  A  0.55  0.65  0.79\n",
              "1  B  0.72  0.44  0.53\n",
              "2  C   0.6  0.89  0.57\n",
              "3  D  0.54  0.96  0.93\n",
              "4  E  0.42  0.38  0.07"
            ]
          },
          "metadata": {
            "tags": []
          },
          "execution_count": 4
        }
      ]
    },
    {
      "cell_type": "markdown",
      "metadata": {
        "id": "rY7_8BOyRQ84"
      },
      "source": [
        "### 연습문제 4.5.1"
      ]
    },
    {
      "cell_type": "code",
      "metadata": {
        "colab": {
          "base_uri": "https://localhost:8080/",
          "height": 206
        },
        "id": "4-hqWGbpRTz8",
        "outputId": "3f789fa0-f767-4faa-a214-a1da5dc0fd53"
      },
      "source": [
        "np.random.seed(2021)\n",
        "data = np.random.randint(40, 100, size=(5,3))\n",
        "df_score1 = pd.DataFrame(data, columns=['국어','영어','수학'])\n",
        "df_score1\n"
      ],
      "execution_count": 7,
      "outputs": [
        {
          "output_type": "execute_result",
          "data": {
            "text/html": [
              "<div>\n",
              "<style scoped>\n",
              "    .dataframe tbody tr th:only-of-type {\n",
              "        vertical-align: middle;\n",
              "    }\n",
              "\n",
              "    .dataframe tbody tr th {\n",
              "        vertical-align: top;\n",
              "    }\n",
              "\n",
              "    .dataframe thead th {\n",
              "        text-align: right;\n",
              "    }\n",
              "</style>\n",
              "<table border=\"1\" class=\"dataframe\">\n",
              "  <thead>\n",
              "    <tr style=\"text-align: right;\">\n",
              "      <th></th>\n",
              "      <th>국어</th>\n",
              "      <th>영어</th>\n",
              "      <th>수학</th>\n",
              "    </tr>\n",
              "  </thead>\n",
              "  <tbody>\n",
              "    <tr>\n",
              "      <th>0</th>\n",
              "      <td>92</td>\n",
              "      <td>61</td>\n",
              "      <td>97</td>\n",
              "    </tr>\n",
              "    <tr>\n",
              "      <th>1</th>\n",
              "      <td>40</td>\n",
              "      <td>85</td>\n",
              "      <td>70</td>\n",
              "    </tr>\n",
              "    <tr>\n",
              "      <th>2</th>\n",
              "      <td>62</td>\n",
              "      <td>84</td>\n",
              "      <td>67</td>\n",
              "    </tr>\n",
              "    <tr>\n",
              "      <th>3</th>\n",
              "      <td>69</td>\n",
              "      <td>61</td>\n",
              "      <td>69</td>\n",
              "    </tr>\n",
              "    <tr>\n",
              "      <th>4</th>\n",
              "      <td>64</td>\n",
              "      <td>52</td>\n",
              "      <td>94</td>\n",
              "    </tr>\n",
              "  </tbody>\n",
              "</table>\n",
              "</div>"
            ],
            "text/plain": [
              "   국어  영어  수학\n",
              "0  92  61  97\n",
              "1  40  85  70\n",
              "2  62  84  67\n",
              "3  69  61  69\n",
              "4  64  52  94"
            ]
          },
          "metadata": {
            "tags": []
          },
          "execution_count": 7
        }
      ]
    },
    {
      "cell_type": "code",
      "metadata": {
        "colab": {
          "base_uri": "https://localhost:8080/",
          "height": 237
        },
        "id": "Aq5izKcsRvQY",
        "outputId": "839b8f14-bad2-4a88-e74e-2eb1a013f180"
      },
      "source": [
        "df_score1.index = ['Ailee','Elizabeth','James','Maria','Brian']\n",
        "df_score1.index.name = '이름'\n",
        "df_score1"
      ],
      "execution_count": 12,
      "outputs": [
        {
          "output_type": "execute_result",
          "data": {
            "text/html": [
              "<div>\n",
              "<style scoped>\n",
              "    .dataframe tbody tr th:only-of-type {\n",
              "        vertical-align: middle;\n",
              "    }\n",
              "\n",
              "    .dataframe tbody tr th {\n",
              "        vertical-align: top;\n",
              "    }\n",
              "\n",
              "    .dataframe thead th {\n",
              "        text-align: right;\n",
              "    }\n",
              "</style>\n",
              "<table border=\"1\" class=\"dataframe\">\n",
              "  <thead>\n",
              "    <tr style=\"text-align: right;\">\n",
              "      <th></th>\n",
              "      <th>국어</th>\n",
              "      <th>영어</th>\n",
              "      <th>수학</th>\n",
              "    </tr>\n",
              "    <tr>\n",
              "      <th>이름</th>\n",
              "      <th></th>\n",
              "      <th></th>\n",
              "      <th></th>\n",
              "    </tr>\n",
              "  </thead>\n",
              "  <tbody>\n",
              "    <tr>\n",
              "      <th>Ailee</th>\n",
              "      <td>92</td>\n",
              "      <td>61</td>\n",
              "      <td>97</td>\n",
              "    </tr>\n",
              "    <tr>\n",
              "      <th>Elizabeth</th>\n",
              "      <td>40</td>\n",
              "      <td>85</td>\n",
              "      <td>70</td>\n",
              "    </tr>\n",
              "    <tr>\n",
              "      <th>James</th>\n",
              "      <td>62</td>\n",
              "      <td>84</td>\n",
              "      <td>67</td>\n",
              "    </tr>\n",
              "    <tr>\n",
              "      <th>Maria</th>\n",
              "      <td>69</td>\n",
              "      <td>61</td>\n",
              "      <td>69</td>\n",
              "    </tr>\n",
              "    <tr>\n",
              "      <th>Brian</th>\n",
              "      <td>64</td>\n",
              "      <td>52</td>\n",
              "      <td>94</td>\n",
              "    </tr>\n",
              "  </tbody>\n",
              "</table>\n",
              "</div>"
            ],
            "text/plain": [
              "           국어  영어  수학\n",
              "이름                   \n",
              "Ailee      92  61  97\n",
              "Elizabeth  40  85  70\n",
              "James      62  84  67\n",
              "Maria      69  61  69\n",
              "Brian      64  52  94"
            ]
          },
          "metadata": {
            "tags": []
          },
          "execution_count": 12
        }
      ]
    },
    {
      "cell_type": "code",
      "metadata": {
        "colab": {
          "base_uri": "https://localhost:8080/",
          "height": 206
        },
        "id": "kCSqtUWLSRSr",
        "outputId": "304f1041-c3c8-44f4-9652-01e69bc12313"
      },
      "source": [
        "df_score2 = df_score1.reset_index()\n",
        "df_score2"
      ],
      "execution_count": 13,
      "outputs": [
        {
          "output_type": "execute_result",
          "data": {
            "text/html": [
              "<div>\n",
              "<style scoped>\n",
              "    .dataframe tbody tr th:only-of-type {\n",
              "        vertical-align: middle;\n",
              "    }\n",
              "\n",
              "    .dataframe tbody tr th {\n",
              "        vertical-align: top;\n",
              "    }\n",
              "\n",
              "    .dataframe thead th {\n",
              "        text-align: right;\n",
              "    }\n",
              "</style>\n",
              "<table border=\"1\" class=\"dataframe\">\n",
              "  <thead>\n",
              "    <tr style=\"text-align: right;\">\n",
              "      <th></th>\n",
              "      <th>이름</th>\n",
              "      <th>국어</th>\n",
              "      <th>영어</th>\n",
              "      <th>수학</th>\n",
              "    </tr>\n",
              "  </thead>\n",
              "  <tbody>\n",
              "    <tr>\n",
              "      <th>0</th>\n",
              "      <td>Ailee</td>\n",
              "      <td>92</td>\n",
              "      <td>61</td>\n",
              "      <td>97</td>\n",
              "    </tr>\n",
              "    <tr>\n",
              "      <th>1</th>\n",
              "      <td>Elizabeth</td>\n",
              "      <td>40</td>\n",
              "      <td>85</td>\n",
              "      <td>70</td>\n",
              "    </tr>\n",
              "    <tr>\n",
              "      <th>2</th>\n",
              "      <td>James</td>\n",
              "      <td>62</td>\n",
              "      <td>84</td>\n",
              "      <td>67</td>\n",
              "    </tr>\n",
              "    <tr>\n",
              "      <th>3</th>\n",
              "      <td>Maria</td>\n",
              "      <td>69</td>\n",
              "      <td>61</td>\n",
              "      <td>69</td>\n",
              "    </tr>\n",
              "    <tr>\n",
              "      <th>4</th>\n",
              "      <td>Brian</td>\n",
              "      <td>64</td>\n",
              "      <td>52</td>\n",
              "      <td>94</td>\n",
              "    </tr>\n",
              "  </tbody>\n",
              "</table>\n",
              "</div>"
            ],
            "text/plain": [
              "          이름  국어  영어  수학\n",
              "0      Ailee  92  61  97\n",
              "1  Elizabeth  40  85  70\n",
              "2      James  62  84  67\n",
              "3      Maria  69  61  69\n",
              "4      Brian  64  52  94"
            ]
          },
          "metadata": {
            "tags": []
          },
          "execution_count": 13
        }
      ]
    },
    {
      "cell_type": "code",
      "metadata": {
        "colab": {
          "base_uri": "https://localhost:8080/",
          "height": 237
        },
        "id": "TK_KOxa_SXJ9",
        "outputId": "c7e1f2a5-3382-4629-971f-e075e09e9c5e"
      },
      "source": [
        "# df_score2 = df_score2.set_index('이름')\n",
        "df_score2.set_index('이름', inplace=True)\n",
        "df_score2"
      ],
      "execution_count": 14,
      "outputs": [
        {
          "output_type": "execute_result",
          "data": {
            "text/html": [
              "<div>\n",
              "<style scoped>\n",
              "    .dataframe tbody tr th:only-of-type {\n",
              "        vertical-align: middle;\n",
              "    }\n",
              "\n",
              "    .dataframe tbody tr th {\n",
              "        vertical-align: top;\n",
              "    }\n",
              "\n",
              "    .dataframe thead th {\n",
              "        text-align: right;\n",
              "    }\n",
              "</style>\n",
              "<table border=\"1\" class=\"dataframe\">\n",
              "  <thead>\n",
              "    <tr style=\"text-align: right;\">\n",
              "      <th></th>\n",
              "      <th>국어</th>\n",
              "      <th>영어</th>\n",
              "      <th>수학</th>\n",
              "    </tr>\n",
              "    <tr>\n",
              "      <th>이름</th>\n",
              "      <th></th>\n",
              "      <th></th>\n",
              "      <th></th>\n",
              "    </tr>\n",
              "  </thead>\n",
              "  <tbody>\n",
              "    <tr>\n",
              "      <th>Ailee</th>\n",
              "      <td>92</td>\n",
              "      <td>61</td>\n",
              "      <td>97</td>\n",
              "    </tr>\n",
              "    <tr>\n",
              "      <th>Elizabeth</th>\n",
              "      <td>40</td>\n",
              "      <td>85</td>\n",
              "      <td>70</td>\n",
              "    </tr>\n",
              "    <tr>\n",
              "      <th>James</th>\n",
              "      <td>62</td>\n",
              "      <td>84</td>\n",
              "      <td>67</td>\n",
              "    </tr>\n",
              "    <tr>\n",
              "      <th>Maria</th>\n",
              "      <td>69</td>\n",
              "      <td>61</td>\n",
              "      <td>69</td>\n",
              "    </tr>\n",
              "    <tr>\n",
              "      <th>Brian</th>\n",
              "      <td>64</td>\n",
              "      <td>52</td>\n",
              "      <td>94</td>\n",
              "    </tr>\n",
              "  </tbody>\n",
              "</table>\n",
              "</div>"
            ],
            "text/plain": [
              "           국어  영어  수학\n",
              "이름                   \n",
              "Ailee      92  61  97\n",
              "Elizabeth  40  85  70\n",
              "James      62  84  67\n",
              "Maria      69  61  69\n",
              "Brian      64  52  94"
            ]
          },
          "metadata": {
            "tags": []
          },
          "execution_count": 14
        }
      ]
    },
    {
      "cell_type": "markdown",
      "metadata": {
        "id": "7v_PecWVTeit"
      },
      "source": [
        "## 다중인덱스"
      ]
    },
    {
      "cell_type": "code",
      "metadata": {
        "colab": {
          "base_uri": "https://localhost:8080/",
          "height": 300
        },
        "id": "akVhptrKS63M",
        "outputId": "f10f52e8-e7cc-4ae4-f6b0-2cf19e1d8e03"
      },
      "source": [
        "np.random.seed(0)\n",
        "df4 = pd.DataFrame(np.round(np.random.randn(6, 4), 2),\n",
        "                   columns=[[\"A\", \"A\", \"B\", \"B\"],\n",
        "                            [\"C\", \"D\", \"C\", \"D\"]],\n",
        "                   index=[[\"M\", \"M\", \"M\", \"F\", \"F\", \"F\"],\n",
        "                          [\"id_\" + str(i + 1) for i in range(3)] * 2])\n",
        "df4.columns.names = [\"Cidx1\", \"Cidx2\"]\n",
        "df4.index.names = [\"Ridx1\", \"Ridx2\"]\n",
        "df4"
      ],
      "execution_count": 15,
      "outputs": [
        {
          "output_type": "execute_result",
          "data": {
            "text/html": [
              "<div>\n",
              "<style scoped>\n",
              "    .dataframe tbody tr th:only-of-type {\n",
              "        vertical-align: middle;\n",
              "    }\n",
              "\n",
              "    .dataframe tbody tr th {\n",
              "        vertical-align: top;\n",
              "    }\n",
              "\n",
              "    .dataframe thead tr th {\n",
              "        text-align: left;\n",
              "    }\n",
              "\n",
              "    .dataframe thead tr:last-of-type th {\n",
              "        text-align: right;\n",
              "    }\n",
              "</style>\n",
              "<table border=\"1\" class=\"dataframe\">\n",
              "  <thead>\n",
              "    <tr>\n",
              "      <th></th>\n",
              "      <th>Cidx1</th>\n",
              "      <th colspan=\"2\" halign=\"left\">A</th>\n",
              "      <th colspan=\"2\" halign=\"left\">B</th>\n",
              "    </tr>\n",
              "    <tr>\n",
              "      <th></th>\n",
              "      <th>Cidx2</th>\n",
              "      <th>C</th>\n",
              "      <th>D</th>\n",
              "      <th>C</th>\n",
              "      <th>D</th>\n",
              "    </tr>\n",
              "    <tr>\n",
              "      <th>Ridx1</th>\n",
              "      <th>Ridx2</th>\n",
              "      <th></th>\n",
              "      <th></th>\n",
              "      <th></th>\n",
              "      <th></th>\n",
              "    </tr>\n",
              "  </thead>\n",
              "  <tbody>\n",
              "    <tr>\n",
              "      <th rowspan=\"3\" valign=\"top\">M</th>\n",
              "      <th>id_1</th>\n",
              "      <td>1.76</td>\n",
              "      <td>0.40</td>\n",
              "      <td>0.98</td>\n",
              "      <td>2.24</td>\n",
              "    </tr>\n",
              "    <tr>\n",
              "      <th>id_2</th>\n",
              "      <td>1.87</td>\n",
              "      <td>-0.98</td>\n",
              "      <td>0.95</td>\n",
              "      <td>-0.15</td>\n",
              "    </tr>\n",
              "    <tr>\n",
              "      <th>id_3</th>\n",
              "      <td>-0.10</td>\n",
              "      <td>0.41</td>\n",
              "      <td>0.14</td>\n",
              "      <td>1.45</td>\n",
              "    </tr>\n",
              "    <tr>\n",
              "      <th rowspan=\"3\" valign=\"top\">F</th>\n",
              "      <th>id_1</th>\n",
              "      <td>0.76</td>\n",
              "      <td>0.12</td>\n",
              "      <td>0.44</td>\n",
              "      <td>0.33</td>\n",
              "    </tr>\n",
              "    <tr>\n",
              "      <th>id_2</th>\n",
              "      <td>1.49</td>\n",
              "      <td>-0.21</td>\n",
              "      <td>0.31</td>\n",
              "      <td>-0.85</td>\n",
              "    </tr>\n",
              "    <tr>\n",
              "      <th>id_3</th>\n",
              "      <td>-2.55</td>\n",
              "      <td>0.65</td>\n",
              "      <td>0.86</td>\n",
              "      <td>-0.74</td>\n",
              "    </tr>\n",
              "  </tbody>\n",
              "</table>\n",
              "</div>"
            ],
            "text/plain": [
              "Cidx1           A           B      \n",
              "Cidx2           C     D     C     D\n",
              "Ridx1 Ridx2                        \n",
              "M     id_1   1.76  0.40  0.98  2.24\n",
              "      id_2   1.87 -0.98  0.95 -0.15\n",
              "      id_3  -0.10  0.41  0.14  1.45\n",
              "F     id_1   0.76  0.12  0.44  0.33\n",
              "      id_2   1.49 -0.21  0.31 -0.85\n",
              "      id_3  -2.55  0.65  0.86 -0.74"
            ]
          },
          "metadata": {
            "tags": []
          },
          "execution_count": 15
        }
      ]
    },
    {
      "cell_type": "code",
      "metadata": {
        "id": "MuUGJQhBTgWW"
      },
      "source": [
        ""
      ],
      "execution_count": null,
      "outputs": []
    }
  ]
}