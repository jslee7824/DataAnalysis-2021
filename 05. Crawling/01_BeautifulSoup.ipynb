{
  "nbformat": 4,
  "nbformat_minor": 0,
  "metadata": {
    "colab": {
      "name": "01_BeautifulSoup.ipynb",
      "provenance": [],
      "collapsed_sections": []
    },
    "kernelspec": {
      "name": "python3",
      "display_name": "Python 3"
    },
    "language_info": {
      "name": "python"
    }
  },
  "cells": [
    {
      "cell_type": "markdown",
      "metadata": {
        "id": "JXmFrB7AFhkR"
      },
      "source": [
        "# BeautifulSoup 사용법\n",
        "- Local HTML 파일 열기"
      ]
    },
    {
      "cell_type": "code",
      "metadata": {
        "id": "FUdrgxcaFFzI"
      },
      "source": [
        "from bs4 import BeautifulSoup\n",
        "with open('00_Example.html') as fp:\n",
        "    soup = BeautifulSoup(fp, 'html.parser')"
      ],
      "execution_count": 6,
      "outputs": []
    },
    {
      "cell_type": "code",
      "metadata": {
        "colab": {
          "base_uri": "https://localhost:8080/"
        },
        "id": "GGw83B9GFeKi",
        "outputId": "660fbfe1-0737-4f53-d167-41641f2e8c60"
      },
      "source": [
        "soup"
      ],
      "execution_count": 7,
      "outputs": [
        {
          "output_type": "execute_result",
          "data": {
            "text/plain": [
              "<!DOCTYPE html>\n",
              "\n",
              "<html lang=\"en\">\n",
              "<head>\n",
              "<meta charset=\"utf-8\"/>\n",
              "<meta content=\"width=device-width, initial-scale=1.0\" name=\"viewport\"/>\n",
              "<title>Web Crawling Example</title>\n",
              "</head>\n",
              "<body>\n",
              "<div>\n",
              "<p>a</p><p>b</p><p>c</p>\n",
              "</div>\n",
              "<div class=\"ex_class sample\">\n",
              "<p>1</p><p>2</p><p>3</p>\n",
              "</div>\n",
              "<div id=\"ex_id\">\n",
              "<p>X</p><p>Y</p><p>Z</p>\n",
              "</div>\n",
              "<h1>This is a heading.</h1>\n",
              "<p>This is a paragraph.</p>\n",
              "<p>This is another paragraph.</p>\n",
              "<a class=\"a sample\" href=\"www.naver.com\">Naver</a>\n",
              "</body>\n",
              "</html>"
            ]
          },
          "metadata": {
            "tags": []
          },
          "execution_count": 7
        }
      ]
    },
    {
      "cell_type": "markdown",
      "metadata": {
        "id": "m1_cgsnFFtWv"
      },
      "source": [
        "- find - 한개만 찾는 메서드"
      ]
    },
    {
      "cell_type": "code",
      "metadata": {
        "colab": {
          "base_uri": "https://localhost:8080/"
        },
        "id": "sbt2nyjLF8tP",
        "outputId": "1341491c-a4a8-4840-8299-2e04facb9e5c"
      },
      "source": [
        "first_div = soup.find('div')        # find - 한 개만 찾는 메서드\n",
        "first_div"
      ],
      "execution_count": 10,
      "outputs": [
        {
          "output_type": "execute_result",
          "data": {
            "text/plain": [
              "<div>\n",
              "<p>a</p><p>b</p><p>c</p>\n",
              "</div>"
            ]
          },
          "metadata": {
            "tags": []
          },
          "execution_count": 10
        }
      ]
    },
    {
      "cell_type": "markdown",
      "metadata": {
        "id": "iFWCor3BFtU7"
      },
      "source": [
        "- find_all - 모두를 찾는 메서드"
      ]
    },
    {
      "cell_type": "code",
      "metadata": {
        "colab": {
          "base_uri": "https://localhost:8080/"
        },
        "id": "B9oDtFd_F9-p",
        "outputId": "153a1eb0-00f7-46d6-ea83-470b19496d8e"
      },
      "source": [
        "all_divs = soup.find_all('div')     # find_all - 모두를 찾는 메서드\n",
        "all_divs"
      ],
      "execution_count": 11,
      "outputs": [
        {
          "output_type": "execute_result",
          "data": {
            "text/plain": [
              "[<div>\n",
              " <p>a</p><p>b</p><p>c</p>\n",
              " </div>, <div class=\"ex_class sample\">\n",
              " <p>1</p><p>2</p><p>3</p>\n",
              " </div>, <div id=\"ex_id\">\n",
              " <p>X</p><p>Y</p><p>Z</p>\n",
              " </div>]"
            ]
          },
          "metadata": {
            "tags": []
          },
          "execution_count": 11
        }
      ]
    },
    {
      "cell_type": "code",
      "metadata": {
        "colab": {
          "base_uri": "https://localhost:8080/"
        },
        "id": "B8HgnuJRF_H6",
        "outputId": "ea0d9409-95b4-4060-e8f2-e1cf53a49e09"
      },
      "source": [
        "len(all_divs)"
      ],
      "execution_count": 12,
      "outputs": [
        {
          "output_type": "execute_result",
          "data": {
            "text/plain": [
              "3"
            ]
          },
          "metadata": {
            "tags": []
          },
          "execution_count": 12
        }
      ]
    },
    {
      "cell_type": "code",
      "metadata": {
        "colab": {
          "base_uri": "https://localhost:8080/"
        },
        "id": "dYAMCoWdGAfd",
        "outputId": "3fbb34e5-1cc6-4b61-eecf-a0ed3fb02ff4"
      },
      "source": [
        "for div in all_divs:\n",
        "    print(div)"
      ],
      "execution_count": 13,
      "outputs": [
        {
          "output_type": "stream",
          "text": [
            "<div>\n",
            "<p>a</p><p>b</p><p>c</p>\n",
            "</div>\n",
            "<div class=\"ex_class sample\">\n",
            "<p>1</p><p>2</p><p>3</p>\n",
            "</div>\n",
            "<div id=\"ex_id\">\n",
            "<p>X</p><p>Y</p><p>Z</p>\n",
            "</div>\n"
          ],
          "name": "stdout"
        }
      ]
    },
    {
      "cell_type": "code",
      "metadata": {
        "colab": {
          "base_uri": "https://localhost:8080/"
        },
        "id": "1OICp6n-GB-w",
        "outputId": "d38c0ec2-c448-44ba-ea64-dc9242e9fe47"
      },
      "source": [
        "all_ps = soup.find_all('p')\n",
        "len(all_ps)"
      ],
      "execution_count": 14,
      "outputs": [
        {
          "output_type": "execute_result",
          "data": {
            "text/plain": [
              "11"
            ]
          },
          "metadata": {
            "tags": []
          },
          "execution_count": 14
        }
      ]
    },
    {
      "cell_type": "markdown",
      "metadata": {
        "id": "XBFKZRHGFtSi"
      },
      "source": [
        "- select_one - CSS Selector로 하나만 찾는 메서드"
      ]
    },
    {
      "cell_type": "code",
      "metadata": {
        "colab": {
          "base_uri": "https://localhost:8080/"
        },
        "id": "sXslWfseGDRb",
        "outputId": "38eb7bea-77aa-4874-b4ef-984a7ebba666"
      },
      "source": [
        "ex_id_div = soup.select_one('#ex_id')       # id\n",
        "ex_id_div"
      ],
      "execution_count": 15,
      "outputs": [
        {
          "output_type": "execute_result",
          "data": {
            "text/plain": [
              "<div id=\"ex_id\">\n",
              "<p>X</p><p>Y</p><p>Z</p>\n",
              "</div>"
            ]
          },
          "metadata": {
            "tags": []
          },
          "execution_count": 15
        }
      ]
    },
    {
      "cell_type": "code",
      "metadata": {
        "colab": {
          "base_uri": "https://localhost:8080/"
        },
        "id": "C-_Ro5kAGEN_",
        "outputId": "3fdd1b27-fc06-480e-b7d5-5c8ede306078"
      },
      "source": [
        "ex_sample_div = soup.select_one('.ex_class.sample')     # class\n",
        "ex_sample_div"
      ],
      "execution_count": 16,
      "outputs": [
        {
          "output_type": "execute_result",
          "data": {
            "text/plain": [
              "<div class=\"ex_class sample\">\n",
              "<p>1</p><p>2</p><p>3</p>\n",
              "</div>"
            ]
          },
          "metadata": {
            "tags": []
          },
          "execution_count": 16
        }
      ]
    },
    {
      "cell_type": "markdown",
      "metadata": {
        "id": "6wECdgB7F2YD"
      },
      "source": [
        "- select - CSS Selector로 모두를 찾는 메서드"
      ]
    },
    {
      "cell_type": "code",
      "metadata": {
        "colab": {
          "base_uri": "https://localhost:8080/"
        },
        "id": "Yz7TzDR7GI-o",
        "outputId": "5ac3cb57-b150-477f-99b6-d6fd7512a925"
      },
      "source": [
        "ex_id_divs = soup.select('#ex_id')      # 결과는 리스트로\n",
        "ex_id_divs"
      ],
      "execution_count": 17,
      "outputs": [
        {
          "output_type": "execute_result",
          "data": {
            "text/plain": [
              "[<div id=\"ex_id\">\n",
              " <p>X</p><p>Y</p><p>Z</p>\n",
              " </div>]"
            ]
          },
          "metadata": {
            "tags": []
          },
          "execution_count": 17
        }
      ]
    },
    {
      "cell_type": "code",
      "metadata": {
        "colab": {
          "base_uri": "https://localhost:8080/"
        },
        "id": "VJbNh8lCGJ6b",
        "outputId": "4bd2a876-da23-42d6-91b8-17311b286b2f"
      },
      "source": [
        "sample_divs = soup.select('.sample')\n",
        "sample_divs"
      ],
      "execution_count": 18,
      "outputs": [
        {
          "output_type": "execute_result",
          "data": {
            "text/plain": [
              "[<div class=\"ex_class sample\">\n",
              " <p>1</p><p>2</p><p>3</p>\n",
              " </div>, <a class=\"a sample\" href=\"www.naver.com\">Naver</a>]"
            ]
          },
          "metadata": {
            "tags": []
          },
          "execution_count": 18
        }
      ]
    },
    {
      "cell_type": "markdown",
      "metadata": {
        "id": "qGu-u4WgF5Y6"
      },
      "source": [
        "- 결과 가져오기"
      ]
    },
    {
      "cell_type": "code",
      "metadata": {
        "colab": {
          "base_uri": "https://localhost:8080/",
          "height": 35
        },
        "id": "tzcXA3_MF4Tm",
        "outputId": "7f1b5651-7a42-4a06-8808-60feb60345b2"
      },
      "source": [
        "# <a class=\"a sample\" href=\"www.naver.com\">Naver</a>\n",
        "result = soup.select_one('.a.sample').get_text()\n",
        "result"
      ],
      "execution_count": 19,
      "outputs": [
        {
          "output_type": "execute_result",
          "data": {
            "application/vnd.google.colaboratory.intrinsic+json": {
              "type": "string"
            },
            "text/plain": [
              "'Naver'"
            ]
          },
          "metadata": {
            "tags": []
          },
          "execution_count": 19
        }
      ]
    },
    {
      "cell_type": "code",
      "metadata": {
        "colab": {
          "base_uri": "https://localhost:8080/",
          "height": 35
        },
        "id": "YMAGZqROGMNl",
        "outputId": "e37e154b-edfc-4ab3-e6ef-565f579602eb"
      },
      "source": [
        "result = soup.select_one('.a.sample').string\n",
        "result"
      ],
      "execution_count": 20,
      "outputs": [
        {
          "output_type": "execute_result",
          "data": {
            "application/vnd.google.colaboratory.intrinsic+json": {
              "type": "string"
            },
            "text/plain": [
              "'Naver'"
            ]
          },
          "metadata": {
            "tags": []
          },
          "execution_count": 20
        }
      ]
    },
    {
      "cell_type": "code",
      "metadata": {
        "colab": {
          "base_uri": "https://localhost:8080/",
          "height": 35
        },
        "id": "h2aTxxRrGNMc",
        "outputId": "9d79d0be-348b-4232-a53a-e376bd6e0cc4"
      },
      "source": [
        "# 속성 값\n",
        "href = soup.select_one('.a.sample')['href']\n",
        "href"
      ],
      "execution_count": 21,
      "outputs": [
        {
          "output_type": "execute_result",
          "data": {
            "application/vnd.google.colaboratory.intrinsic+json": {
              "type": "string"
            },
            "text/plain": [
              "'www.naver.com'"
            ]
          },
          "metadata": {
            "tags": []
          },
          "execution_count": 21
        }
      ]
    },
    {
      "cell_type": "markdown",
      "metadata": {
        "id": "gsAcLcurGPbA"
      },
      "source": [
        "- id=\"ex_id\" 인 div에서 p 내용물 가져오기"
      ]
    },
    {
      "cell_type": "code",
      "metadata": {
        "colab": {
          "base_uri": "https://localhost:8080/"
        },
        "id": "wioTGzn2GN-Z",
        "outputId": "09ece384-e187-472c-c2c3-c495ac162890"
      },
      "source": [
        "'''\n",
        "<div id=\"ex_id\">\n",
        "    <p>X</p><p>Y</p><p>Z</p>\n",
        "</div>\n",
        "'''\n",
        "ex_id_div = soup.select_one('#ex_id')\n",
        "all_ps = ex_id_div.select('p')\n",
        "for p in all_ps:\n",
        "    print(p.string)"
      ],
      "execution_count": 22,
      "outputs": [
        {
          "output_type": "stream",
          "text": [
            "X\n",
            "Y\n",
            "Z\n"
          ],
          "name": "stdout"
        }
      ]
    },
    {
      "cell_type": "code",
      "metadata": {
        "id": "upl5U3IpGQpi"
      },
      "source": [
        ""
      ],
      "execution_count": null,
      "outputs": []
    }
  ]
}