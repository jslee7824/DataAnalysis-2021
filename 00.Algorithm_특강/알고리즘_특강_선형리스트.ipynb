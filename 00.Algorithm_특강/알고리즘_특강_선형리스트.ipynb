{
  "nbformat": 4,
  "nbformat_minor": 0,
  "metadata": {
    "colab": {
      "name": "알고리즘 특강_선형리스트.ipynb",
      "provenance": [],
      "collapsed_sections": []
    },
    "kernelspec": {
      "name": "python3",
      "display_name": "Python 3"
    },
    "language_info": {
      "name": "python"
    }
  },
  "cells": [
    {
      "cell_type": "markdown",
      "metadata": {
        "id": "lLgvH9NbfPQo"
      },
      "source": [
        "# 선형 리스트의 기본"
      ]
    },
    {
      "cell_type": "markdown",
      "metadata": {
        "id": "l7vWtv5fg3g7"
      },
      "source": [
        "## 선형 리스트의 원리"
      ]
    },
    {
      "cell_type": "markdown",
      "metadata": {
        "id": "RK_q-EpxgNOM"
      },
      "source": [
        "### 데이터 삽입"
      ]
    },
    {
      "cell_type": "markdown",
      "metadata": {
        "id": "PvljtRskhDgL"
      },
      "source": [
        "#### 1단계"
      ]
    },
    {
      "cell_type": "code",
      "metadata": {
        "colab": {
          "base_uri": "https://localhost:8080/"
        },
        "id": "i4jZreIjeCeD",
        "outputId": "2ff65035-37b7-481c-be36-802066a5ab60"
      },
      "source": [
        "katok = [] # 빈 배열\n",
        "\n",
        "# katok.append(None)\n",
        "# katok[0] = '다현'\n",
        "\n",
        "# katok.append(None)\n",
        "# katok[1] = '정연'\n",
        "# 이렇게하면 넘 귀찮아\n",
        "\n",
        "def add_data(friend): # 새 친구 추가 함수\n",
        "    katok.append(None)\n",
        "    kLen = len(katok)\n",
        "    katok[kLen-1] = friend\n",
        "\n",
        "add_data('다현')\n",
        "add_data('정현')\n",
        "add_data('쯔위')\n",
        "add_data('사나')\n",
        "add_data('지효')\n",
        "\n",
        "print(katok)"
      ],
      "execution_count": 3,
      "outputs": [
        {
          "output_type": "stream",
          "text": [
            "['다현', '정현', '쯔위', '사나', '지효']\n"
          ],
          "name": "stdout"
        }
      ]
    },
    {
      "cell_type": "markdown",
      "metadata": {
        "id": "Z5paDYdkgPHj"
      },
      "source": [
        "#### 2단계"
      ]
    },
    {
      "cell_type": "code",
      "metadata": {
        "colab": {
          "base_uri": "https://localhost:8080/"
        },
        "id": "7goVhPvqfL16",
        "outputId": "6ed53782-a03c-4dcd-c6be-2bf7df827041"
      },
      "source": [
        "katok = ['다현', '정현', '쯔위', '사나', '지효']\n",
        "\n",
        "def insert_data(position, friend): # 삽입 함수\n",
        "    \n",
        "    katok.append(None)\n",
        "    kLen = len(katok)\n",
        "    \n",
        "    for i in range(kLen-1, position, -1):\n",
        "        katok[i] = katok[i-1]\n",
        "        katok[i-1] = None\n",
        "    katok[position] = friend\n",
        "\n",
        "insert_data(2, '솔라')\n",
        "print(katok)\n",
        "insert_data(6, '문별')\n",
        "print(katok)"
      ],
      "execution_count": 5,
      "outputs": [
        {
          "output_type": "stream",
          "text": [
            "['다현', '정현', '솔라', '쯔위', '사나', '지효']\n",
            "['다현', '정현', '솔라', '쯔위', '사나', '지효', '문별']\n"
          ],
          "name": "stdout"
        }
      ]
    },
    {
      "cell_type": "markdown",
      "metadata": {
        "id": "6Z7aF_IuikaS"
      },
      "source": [
        "### 데이터 삭제: 중간 데이터 삭제"
      ]
    },
    {
      "cell_type": "code",
      "metadata": {
        "colab": {
          "base_uri": "https://localhost:8080/"
        },
        "id": "Q3-nD4L6hc-B",
        "outputId": "e9cdbd2a-1378-4047-94de-6f65d36d105b"
      },
      "source": [
        "katok = ['다현', '정현', '쯔위', '사나', '지효']\n",
        "\n",
        "def delete_data(position):\n",
        "    kLen = len(katok)\n",
        "    katok[position] = None\n",
        "\n",
        "    for i in range(position+1, kLen, 1):\n",
        "        katok[i-1] = katok[i]\n",
        "        katok[i] = None\n",
        "    \n",
        "    del(katok[kLen-1])\n",
        "\n",
        "delete_data(1)\n",
        "print(katok)\n",
        "delete_data(3)\n",
        "print(katok)"
      ],
      "execution_count": 8,
      "outputs": [
        {
          "output_type": "stream",
          "text": [
            "['다현', '쯔위', '사나', '지효']\n",
            "['다현', '쯔위', '사나']\n"
          ],
          "name": "stdout"
        }
      ]
    },
    {
      "cell_type": "markdown",
      "metadata": {
        "id": "ETvln23Vk_fN"
      },
      "source": [
        "### 기본 선형 리스트의 완성"
      ]
    },
    {
      "cell_type": "code",
      "metadata": {
        "id": "aGAlwF0Bi4jX"
      },
      "source": [
        "## 함수 선언부\n",
        "def add_data(friend): # 새 친구 추가 함수\n",
        "    katok.append(None)\n",
        "    kLen = len(katok)\n",
        "    katok[kLen-1] = friend\n",
        "\n",
        "def insert_data(position, friend): # 삽입 함수\n",
        "    katok.append(None)\n",
        "    kLen = len(katok)\n",
        "    for i in range(kLen-1, position, -1):\n",
        "        katok[i] = katok[i-1]\n",
        "        katok[i-1] = None\n",
        "    katok[position] = friend\n",
        "\n",
        "## 전역 변수부\n",
        "katok = []\n",
        "select = -1 # 1추가 2삽입 3삭제 4종료\n",
        "\n",
        "## 메인 코드부\n",
        "while (select != 4):\n",
        "    select = int(input(\"1추가 2삽입 3삭제 4종료-->\"))\n",
        "\n",
        "    if (select == 1):\n",
        "      pass # 추가 작동\n",
        "    elif (select == 2):\n",
        "      pass # 삽입 작동\n",
        "    elif (select == 3):\n",
        "      pass # 삭제 작동\n",
        "    elif (select == 4):\n",
        "      \n",
        "      "
      ],
      "execution_count": null,
      "outputs": []
    }
  ]
}