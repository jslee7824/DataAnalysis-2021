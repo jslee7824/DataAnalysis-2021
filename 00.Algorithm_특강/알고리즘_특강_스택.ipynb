{
  "nbformat": 4,
  "nbformat_minor": 0,
  "metadata": {
    "colab": {
      "name": "알고리즘 특강_스택.ipynb",
      "provenance": [],
      "collapsed_sections": []
    },
    "kernelspec": {
      "name": "python3",
      "display_name": "Python 3"
    },
    "language_info": {
      "name": "python"
    }
  },
  "cells": [
    {
      "cell_type": "code",
      "metadata": {
        "id": "MuuiHUSEtT97"
      },
      "source": [
        "## 함수 선언부\n",
        "def isStackFull():\n",
        "    global SIZE, stack, top\n",
        "    if (top == SIZE-1) :\n",
        "        return True\n",
        "    else :\n",
        "        return False\n",
        "def push(data) :\n",
        "    global SIZE, stack, top\n",
        "    # 스택이 꽉 찼으면, 꽉 찼다는 메세지 출력하고 종료\n",
        "    # 아니라면, 스택에 데이터 넣기"
      ],
      "execution_count": 5,
      "outputs": []
    },
    {
      "cell_type": "code",
      "metadata": {
        "id": "PCkJqGCzyAcp"
      },
      "source": [
        "## 전역 변수부\n",
        "SIZE = 5\n",
        "stack = [None for _ in range(SIZE)]\n",
        "top = -1"
      ],
      "execution_count": 6,
      "outputs": []
    },
    {
      "cell_type": "code",
      "metadata": {
        "colab": {
          "base_uri": "https://localhost:8080/"
        },
        "id": "9V5awbLDyB1r",
        "outputId": "4db1ea1f-2ad2-4c3d-d8b2-0091454ddf38"
      },
      "source": [
        "## 메인 코드부\n",
        "#stack = ['커피','녹차','꿀물','콜라','환타']\n",
        "#top = 4\n",
        "\n",
        "#print('스택 꽉?', isStackFull())"
      ],
      "execution_count": 7,
      "outputs": [
        {
          "output_type": "stream",
          "text": [
            "스택 꽉? True\n"
          ],
          "name": "stdout"
        }
      ]
    },
    {
      "cell_type": "markdown",
      "metadata": {
        "id": "YK1YBrXw2dTd"
      },
      "source": [
        "- 스택 문제 1"
      ]
    },
    {
      "cell_type": "code",
      "metadata": {
        "id": "T9XXdx5HyCvh"
      },
      "source": [
        "## 함수 선언부\n",
        "def isStackFull():\n",
        "    global SIZE, stack, top\n",
        "    if (top == SIZE-1) :\n",
        "        return True\n",
        "    else :\n",
        "        return False\n",
        "def push(data) :\n",
        "    global SIZE, stack, top\n",
        "    if (isStackFull()) :\n",
        "        print(\"스택 꽉!\")\n",
        "        return\n",
        "        \n",
        "    top += 1\n",
        "    stack[top] = data\n",
        "    # 스택이 꽉 찼으면, 꽉 찼다는 메세지 출력하고 종료\n",
        "    # 아니라면, 스택에 데이터 넣기"
      ],
      "execution_count": 1,
      "outputs": []
    },
    {
      "cell_type": "code",
      "metadata": {
        "id": "Vmngdiu112Ra"
      },
      "source": [
        "## 전역 변수부\n",
        "SIZE = 5\n",
        "stack = [None for _ in range(SIZE)]\n",
        "top = -1"
      ],
      "execution_count": 2,
      "outputs": []
    },
    {
      "cell_type": "code",
      "metadata": {
        "colab": {
          "base_uri": "https://localhost:8080/"
        },
        "id": "iTfb9FAW12g6",
        "outputId": "0388db71-2a95-413b-afdf-81d02432bb98"
      },
      "source": [
        "## 메인 코드부\n",
        "push(\"커피1\")\n",
        "push(\"커피2\")\n",
        "push(\"커피3\")\n",
        "push(\"커피4\")\n",
        "push(\"커피5\")\n",
        "push(\"커피6\")\n",
        "\n",
        "print(stack)"
      ],
      "execution_count": 3,
      "outputs": [
        {
          "output_type": "stream",
          "text": [
            "스택 꽉!\n",
            "['커피1', '커피2', '커피3', '커피4', '커피5']\n"
          ],
          "name": "stdout"
        }
      ]
    },
    {
      "cell_type": "markdown",
      "metadata": {
        "id": "ryN29iyO2i8e"
      },
      "source": [
        "- 스택 문제 2 (팝작동)"
      ]
    },
    {
      "cell_type": "code",
      "metadata": {
        "id": "PJgLvaAj45Nm"
      },
      "source": [
        "def  isStackFull() :\n",
        "    global SIZE, stack, top\n",
        "    if (top == SIZE-1) :\n",
        "        return True\n",
        "    else :\n",
        "        return False\n",
        "def push(data) :\n",
        "    global SIZE, stack, top\n",
        "    if (isStackFull()) :\n",
        "        print(\"스택 꽉!\")\n",
        "        return\n",
        "    top += 1\n",
        "    stack[top] = data\n",
        "def isStackEmpty() :\n",
        "    global SIZE, stack, top\n",
        "    if (top <= -1) :\n",
        "        return True\n",
        "    else :\n",
        "        return False\n",
        "def pop() :\n",
        "    global SIZE, stack, top\n",
        "    # 스택이 비었는지 확인, 메시지 출력 후 끝\n",
        "    if (isStackEmpty()) :\n",
        "        print('스택 텅!')\n",
        "        return None\n",
        "    data = stack[top]\n",
        "    stack[top] = None\n",
        "    top -= 1\n",
        "    # 안비었으면 데이터를 추출해서 반환\n",
        "    return  data"
      ],
      "execution_count": 10,
      "outputs": []
    },
    {
      "cell_type": "code",
      "metadata": {
        "id": "KxtW6T4H2rQE"
      },
      "source": [
        "## 전역 변수부\n",
        "SIZE = 5\n",
        "stack = [None for _ in range(SIZE)]\n",
        "top = -1"
      ],
      "execution_count": 11,
      "outputs": []
    },
    {
      "cell_type": "code",
      "metadata": {
        "colab": {
          "base_uri": "https://localhost:8080/"
        },
        "id": "nlKX9yPq2scN",
        "outputId": "dc1d8e18-45b3-4efe-cedc-8e6dfd976d42"
      },
      "source": [
        "## 메인 코드부\n",
        "\n",
        "push(\"커피1\")\n",
        "push(\"커피2\")\n",
        "print(stack)\n",
        "\n",
        "data = pop()\n",
        "print(data)\n",
        "data = pop()\n",
        "print(data)\n",
        "data = pop()\n",
        "\n",
        "print(data)\n",
        "print(stack)"
      ],
      "execution_count": 12,
      "outputs": [
        {
          "output_type": "stream",
          "text": [
            "['커피1', '커피2', None, None, None]\n",
            "커피2\n",
            "커피1\n",
            "스택 텅!\n",
            "None\n",
            "[None, None, None, None, None]\n"
          ],
          "name": "stdout"
        }
      ]
    },
    {
      "cell_type": "code",
      "metadata": {
        "id": "g32e2-eI4boQ"
      },
      "source": [
        ""
      ],
      "execution_count": null,
      "outputs": []
    }
  ]
}