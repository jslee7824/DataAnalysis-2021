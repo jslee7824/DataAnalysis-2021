{
  "nbformat": 4,
  "nbformat_minor": 0,
  "metadata": {
    "colab": {
      "name": "알고리즘 특강_단순연결리스트.ipynb",
      "provenance": [],
      "collapsed_sections": []
    },
    "kernelspec": {
      "name": "python3",
      "display_name": "Python 3"
    },
    "language_info": {
      "name": "python"
    }
  },
  "cells": [
    {
      "cell_type": "markdown",
      "metadata": {
        "id": "lPZvft1rCCaN"
      },
      "source": [
        "# 단순 연결리스트 구현"
      ]
    },
    {
      "cell_type": "code",
      "metadata": {
        "colab": {
          "base_uri": "https://localhost:8080/"
        },
        "id": "E5R1_3lF9RZ0",
        "outputId": "83662f31-4435-4a6c-9184-bd9c3c3ca9c5"
      },
      "source": [
        "class Node():\n",
        "    def __init__(self):\n",
        "        self.data = None\n",
        "        self.link = None\n",
        "\n",
        "node1 = Node()\n",
        "node1.data = '다현'\n",
        "\n",
        "node2 = Node()\n",
        "node2.data = '정연'\n",
        "node1.link = node2\n",
        "\n",
        "node3 = Node()\n",
        "node3.data = '쯔위'\n",
        "node2.link = node3\n",
        "\n",
        "node4 = Node()\n",
        "node4.data = '사나'\n",
        "node3.link = node4\n",
        "\n",
        "node5 = Node()\n",
        "node5.data = '지효'\n",
        "node4.link = node5\n",
        "\n",
        "# print(node1.data, end=' ')\n",
        "# print(node1.link.data, end = ' ')\n",
        "# print(node1.link.link.data, end = ' ')\n",
        "# print(node1.link.link.link.data, end = ' ')\n",
        "# print(node1.link.link.link.link.data, end = ' ')\n",
        "current = node1\n",
        "print(current.data, end=' ')\n",
        "while (current.link !=None):\n",
        "    current = current.link\n",
        "    print(current.data, end=' ')\n",
        "    "
      ],
      "execution_count": 5,
      "outputs": [
        {
          "output_type": "stream",
          "text": [
            "다현 정연 쯔위 사나 지효 "
          ],
          "name": "stdout"
        }
      ]
    },
    {
      "cell_type": "markdown",
      "metadata": {
        "id": "FZq2Lu24I4yS"
      },
      "source": [
        "# 단순 연결 리스트의 일반 구현"
      ]
    },
    {
      "cell_type": "markdown",
      "metadata": {
        "id": "c6GB85jII9hy"
      },
      "source": [
        "- 단순 연결 리스트 생성"
      ]
    },
    {
      "cell_type": "code",
      "metadata": {
        "colab": {
          "base_uri": "https://localhost:8080/"
        },
        "id": "SgQAblc8HY73",
        "outputId": "8acfb739-4b14-46f8-98b6-89c2b6380def"
      },
      "source": [
        "## 함수 선언부\n",
        "class  Node() :\n",
        "    def __init__(self):\n",
        "        self.data = None\n",
        "        self.link = None\n",
        "def printNodes(start) :\n",
        "    current = start\n",
        "    print(current.data, end=' ')\n",
        "    while (current.link != None):\n",
        "        current = current.link\n",
        "        print(current.data, end=' ')\n",
        "    print()\n",
        "def insertNode(findData, insertData) :\n",
        "    global memory, head, current, pre\n",
        "    if head.data == findData : # 첫 노드 앞에 삽입\n",
        "        node = Node()\n",
        "        node.data = insertData\n",
        "        node.link = head\n",
        "        head = node\n",
        "        memory.append(node)\n",
        "        return\n",
        "    current = head\n",
        "    while current.link != None:\n",
        "        pre = current\n",
        "        current = current.link\n",
        "        if current.data == findData :\n",
        "            node = Node()\n",
        "            node.data = insertData\n",
        "            node.link = current\n",
        "            pre.link = node\n",
        "            memory.append(node)\n",
        "            return\n",
        "    node = Node() # 마지막 노드에 삽입\n",
        "    node.data = insertData\n",
        "    current.link = node\n",
        "    memory.append(node)\n",
        "    return\n",
        "    \n",
        "## 전역 변수부\n",
        "memory = [] # 노드를 저장할 공간\n",
        "head, current, pre = None, None, None\n",
        "dataArray = ['다현', '정연', '쯔위', '사나', '지효']\n",
        "## 메인 코드부\n",
        "node = Node()   # 첫번째 노드\n",
        "node.data = dataArray[0]\n",
        "head = node\n",
        "memory.append(node)\n",
        "for data in dataArray[1:] : # ['정연', '쯔위', '사나', '지효']\n",
        "    pre = node\n",
        "    node = Node()\n",
        "    node.data = data\n",
        "    pre.link = node\n",
        "    memory.append(node)\n",
        "printNodes(head)"
      ],
      "execution_count": 12,
      "outputs": [
        {
          "output_type": "stream",
          "text": [
            "다현 정연 쯔위 사나 지효 "
          ],
          "name": "stdout"
        }
      ]
    },
    {
      "cell_type": "markdown",
      "metadata": {
        "id": "aTvDfIwfPsoX"
      },
      "source": [
        "- Delete"
      ]
    },
    {
      "cell_type": "code",
      "metadata": {
        "colab": {
          "base_uri": "https://localhost:8080/"
        },
        "id": "-v5S61trI0Z1",
        "outputId": "8f26870f-fe63-437c-d77a-773289fb99bc"
      },
      "source": [
        "## 함수 선언부\n",
        "class  Node() :\n",
        "    def __init__(self):\n",
        "        self.data = None\n",
        "        self.link = None\n",
        "def printNodes(start) :\n",
        "    current = start\n",
        "    print(current.data, end=' ')\n",
        "    while (current.link != None):\n",
        "        current = current.link\n",
        "        print(current.data, end=' ')\n",
        "    print()\n",
        "def insertNode(findData, insertData) :\n",
        "    global memory, head, current, pre\n",
        "    if head.data == findData : # 첫 노드 앞에 삽입\n",
        "        node = Node()\n",
        "        node.data = insertData\n",
        "        node.link = head\n",
        "        head = node\n",
        "        memory.append(node)\n",
        "        return\n",
        "    current = head\n",
        "    while current.link != None:\n",
        "        pre = current\n",
        "        current = current.link\n",
        "        if current.data == findData :\n",
        "            node = Node()\n",
        "            node.data = insertData\n",
        "            node.link = current\n",
        "            pre.link = node\n",
        "            memory.append(node)\n",
        "            return\n",
        "    node = Node() # 마지막 노드에 삽입\n",
        "    node.data = insertData\n",
        "    current.link = node\n",
        "    memory.append(node)\n",
        "    return\n",
        "def deleteNode(deleteData) :\n",
        "    global memory, head, current, pre\n",
        "    if head.data == deleteData :\n",
        "      current = head\n",
        "      head = head.link\n",
        "      del(current)\n",
        "      return\n",
        "    current = head\n",
        "    while current.link !=None :\n",
        "      pre = current\n",
        "      current = current.link\n",
        "      if current.data == deleteData :\n",
        "          pre.link = current.link\n",
        "          del(current)\n",
        "          return\n",
        "\n",
        "## 전역 변수부\n",
        "memory = [] # 노드를 저장할 공간\n",
        "head, current, pre = None, None, None\n",
        "dataArray = ['다현', '정연', '쯔위', '사나', '지효']\n",
        "## 메인 코드부\n",
        "node = Node()   # 첫번째 노드\n",
        "node.data = dataArray[0]\n",
        "head = node\n",
        "memory.append(node)\n",
        "for data in dataArray[1:] : # ['정연', '쯔위', '사나', '지효']\n",
        "    pre = node\n",
        "    node = Node()\n",
        "    node.data = data\n",
        "    pre.link = node\n",
        "    memory.append(node)\n",
        "printNodes(head)\n",
        "\n",
        "deleteNode('쯔위')\n",
        "printNodes(head)"
      ],
      "execution_count": 17,
      "outputs": [
        {
          "output_type": "stream",
          "text": [
            "다현 정연 쯔위 사나 지효 \n",
            "다현 정연 사나 지효 \n"
          ],
          "name": "stdout"
        }
      ]
    },
    {
      "cell_type": "markdown",
      "metadata": {
        "id": "uLb83UOIRXDW"
      },
      "source": [
        "- findNode"
      ]
    },
    {
      "cell_type": "code",
      "metadata": {
        "id": "47jt-BQbQFVQ"
      },
      "source": [
        "## 함수 선언부\n",
        "class  Node() :\n",
        "    def __init__(self):\n",
        "        self.data = None\n",
        "        self.link = None\n",
        "def printNodes(start) :\n",
        "    current = start\n",
        "    print(current.data, end=' ')\n",
        "    while (current.link != None):\n",
        "        current = current.link\n",
        "        print(current.data, end=' ')\n",
        "    print()\n",
        "def insertNode(findData, insertData) :\n",
        "    global memory, head, current, pre\n",
        "    if head.data == findData : # 첫노드 앞에 삽입\n",
        "        node = Node()\n",
        "        node.data = insertData\n",
        "        node.link = head\n",
        "        head = node\n",
        "        memory.append(node)\n",
        "        return\n",
        "    current = head\n",
        "    while current.link != None :\n",
        "        pre = current\n",
        "        current = current.link\n",
        "        if  current.data == findData :\n",
        "            node = Node()\n",
        "            node.data = insertData\n",
        "            node.link = current\n",
        "            pre.link = node\n",
        "            memory.append(node)\n",
        "            return\n",
        "    node = Node() # 마지막 노드에 삽입\n",
        "    node.data = insertData\n",
        "    current.link = node\n",
        "    memory.append(node)\n",
        "    return\n",
        "def deleteNode(deleteData) :\n",
        "    global memory, head, current, pre\n",
        "    if head.data == deleteData :\n",
        "        current = head\n",
        "        head = head.link\n",
        "        del(current)\n",
        "        return\n",
        "    current  = head\n",
        "    while current.link != None :\n",
        "        pre = current\n",
        "        current = current.link\n",
        "        if current.data == deleteData :\n",
        "            pre.link = current.link\n",
        "            del(current)\n",
        "            return\n",
        "def findNode(findData) :\n",
        "    global memory, head, current, pre\n",
        "\n",
        "## 전역 변수부\n",
        "memory = [] # 노드를 저장할 공간\n",
        "head, current, pre = None, None, None\n",
        "dataArray = ['다현', '정연', '쯔위', '사나', '지효']\n",
        "## 메인 코드부\n",
        "node = Node()   # 첫번째 노드\n",
        "node.data = dataArray[0]\n",
        "head = node\n",
        "memory.append(node)\n",
        "for data in dataArray[1:] : # ['정연', '쯔위', '사나', '지효']\n",
        "    pre = node\n",
        "    node = Node()\n",
        "    node.data = data\n",
        "    pre.link = node\n",
        "    memory.append(node)\n",
        "printNodes(head)\n",
        "\n",
        "# insertNode('다현', '화사')\n",
        "# printNodes(head)\n",
        "# insertNode('사나', '솔라')\n",
        "# printNodes(head)\n",
        "# insertNode('재남', '문별')\n",
        "# printNodes(head)\n",
        "\n",
        "deleteNode('다현')\n",
        "printNodes(head)\n",
        "deleteNode('쯔위')\n",
        "printNodes(head)\n",
        "deleteNode('재남')\n",
        "printNodes(head)"
      ],
      "execution_count": null,
      "outputs": []
    }
  ]
}